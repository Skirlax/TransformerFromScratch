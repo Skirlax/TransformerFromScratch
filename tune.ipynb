{
 "cells": [
  {
   "cell_type": "code",
   "execution_count": 1,
   "outputs": [],
   "source": [
    "%load_ext autoreload\n",
    "%autoreload 2\n",
    "import torch as th\n",
    "from Datasets.TinyShakespeare.prepare import prepare_to_tokenize\n",
    "from Embeddings.token_embeddings import encode, decode\n",
    "from TransformerModel.transformer import TransformerDecoder, TransformerTrainer\n",
    "import json\n",
    "import numpy as np\n",
    "from itertools import chain\n",
    "from Embeddings.constants import EmbedConstants\n",
    "import random\n",
    "import wandb\n",
    "import pickle"
   ],
   "metadata": {
    "collapsed": false,
    "ExecuteTime": {
     "end_time": "2023-12-14T20:45:46.789204170Z",
     "start_time": "2023-12-14T20:45:45.624429199Z"
    }
   },
   "id": "6b080fe89da9800f"
  },
  {
   "cell_type": "code",
   "execution_count": null,
   "outputs": [],
   "source": [
    "# text = prepare_to_tokenize(\"/home/skyr/PycharmProjects/TransformerFromScratch/Datasets/Inheritance/big_eragon.txt\")\n",
    "# with open(\"/home/skyr/PycharmProjects/TransformerFromScratch/Datasets/Inheritance/vocab_big.json\", \"r\") as file:\n",
    "#     vocab = json.load(file)"
   ],
   "metadata": {
    "collapsed": false
   },
   "id": "a11d0d239028b943"
  },
  {
   "cell_type": "markdown",
   "source": [
    "Tiny Shakespeare"
   ],
   "metadata": {
    "collapsed": false
   },
   "id": "7ff02f8be9c303fa"
  },
  {
   "cell_type": "code",
   "execution_count": 2,
   "outputs": [],
   "source": [
    "text = prepare_to_tokenize(\"/home/skyr/PycharmProjects/TransformerFromScratch/Datasets/TinyShakespeare/input.txt\")\n",
    "with open(\"/home/skyr/PycharmProjects/TransformerFromScratch/Datasets/TinyShakespeare/vocab.json\", \"r\") as file:\n",
    "    vocab = json.load(file)"
   ],
   "metadata": {
    "collapsed": false,
    "ExecuteTime": {
     "end_time": "2023-12-14T20:45:51.463432990Z",
     "start_time": "2023-12-14T20:45:51.195185540Z"
    }
   },
   "id": "88fa088540095cf2"
  },
  {
   "cell_type": "code",
   "execution_count": 3,
   "outputs": [],
   "source": [
    "text = encode(text, vocab)"
   ],
   "metadata": {
    "collapsed": false,
    "ExecuteTime": {
     "end_time": "2023-12-14T20:45:54.060805602Z",
     "start_time": "2023-12-14T20:45:52.096690223Z"
    }
   },
   "id": "f01564be24378bc"
  },
  {
   "cell_type": "code",
   "execution_count": null,
   "outputs": [],
   "source": [
    "# text[0]"
   ],
   "metadata": {
    "collapsed": false
   },
   "id": "8a1c17c6b8021be3"
  },
  {
   "cell_type": "markdown",
   "source": [
    "Save encoded"
   ],
   "metadata": {
    "collapsed": false
   },
   "id": "3d542b575ac59311"
  },
  {
   "cell_type": "code",
   "execution_count": null,
   "outputs": [],
   "source": [
    "# with open(\"/home/skyr/PycharmProjects/TransformerFromScratch/Datasets/Inheritance/encoded_big.pkl\", \"wb\") as file:\n",
    "#     pickle.dump(text, file)"
   ],
   "metadata": {
    "collapsed": false
   },
   "id": "e84f918f30eeba37"
  },
  {
   "cell_type": "markdown",
   "source": [
    "Load from pickle"
   ],
   "metadata": {
    "collapsed": false
   },
   "id": "892771ccdcc27e10"
  },
  {
   "cell_type": "code",
   "execution_count": null,
   "outputs": [],
   "source": [
    "with open(\"/home/skyr/PycharmProjects/TransformerFromScratch/Datasets/Inheritance/encoded_big.pkl\", \"rb\") as file:\n",
    "    text = pickle.load(file)"
   ],
   "metadata": {
    "collapsed": false
   },
   "id": "12eae9b8e5426526"
  },
  {
   "cell_type": "code",
   "execution_count": 4,
   "outputs": [],
   "source": [
    "def nearest_lower_divisible(number, divisor):\n",
    "    return number - (number % divisor)\n"
   ],
   "metadata": {
    "collapsed": false,
    "ExecuteTime": {
     "end_time": "2023-12-14T20:45:55.914993764Z",
     "start_time": "2023-12-14T20:45:55.902610232Z"
    }
   },
   "id": "57ad6800e972d361"
  },
  {
   "cell_type": "code",
   "execution_count": 5,
   "outputs": [],
   "source": [
    "import math\n",
    "def nearest_upper_divisible(number,divisor):\n",
    "    return number + abs(number - divisor * math.ceil(number / divisor))"
   ],
   "metadata": {
    "collapsed": false,
    "ExecuteTime": {
     "end_time": "2023-12-14T20:45:56.340215286Z",
     "start_time": "2023-12-14T20:45:56.321487219Z"
    }
   },
   "id": "2c5afbe69f2f92d2"
  },
  {
   "cell_type": "code",
   "execution_count": 6,
   "outputs": [],
   "source": [
    "num_heads = 8\n",
    "embedd_dim = nearest_lower_divisible(450, num_heads)\n",
    "dropout_p = 0.3\n",
    "feed_forward_size = 916\n",
    "num_layers = 8\n",
    "vocab_size = len(vocab)\n",
    "# vocab_size = 50257\n",
    "# test_lr = 1e-5\n",
    "test_lr = 1e-4\n",
    "block_size = 108\n",
    "weight_decay = 0.01\n",
    "# weight_decay = 0.007548162081615722\n",
    "epochs = 1501\n",
    "batch_size = 64"
   ],
   "metadata": {
    "collapsed": false,
    "ExecuteTime": {
     "end_time": "2023-12-14T20:45:57.634754931Z",
     "start_time": "2023-12-14T20:45:57.611033040Z"
    }
   },
   "id": "df1e979f398a69d4"
  },
  {
   "cell_type": "code",
   "execution_count": 7,
   "outputs": [
    {
     "data": {
      "text/plain": "448"
     },
     "execution_count": 7,
     "metadata": {},
     "output_type": "execute_result"
    }
   ],
   "source": [
    "embedd_dim"
   ],
   "metadata": {
    "collapsed": false,
    "ExecuteTime": {
     "end_time": "2023-12-14T20:45:58.449912879Z",
     "start_time": "2023-12-14T20:45:58.425168287Z"
    }
   },
   "id": "c2e0ac15acb5bae9"
  },
  {
   "cell_type": "code",
   "execution_count": 8,
   "outputs": [
    {
     "name": "stderr",
     "output_type": "stream",
     "text": [
      "\u001B[34m\u001B[1mwandb\u001B[0m: Currently logged in as: \u001B[33mtobaleo\u001B[0m (\u001B[33mskyrr\u001B[0m). Use \u001B[1m`wandb login --relogin`\u001B[0m to force relogin\n"
     ]
    },
    {
     "data": {
      "text/plain": "<IPython.core.display.HTML object>",
      "text/html": "Tracking run with wandb version 0.16.1"
     },
     "metadata": {},
     "output_type": "display_data"
    },
    {
     "data": {
      "text/plain": "<IPython.core.display.HTML object>",
      "text/html": "Run data is saved locally in <code>/home/skyr/PycharmProjects/TransformerFromScratch/wandb/run-20231214_214559-m2xufj2q</code>"
     },
     "metadata": {},
     "output_type": "display_data"
    },
    {
     "data": {
      "text/plain": "<IPython.core.display.HTML object>",
      "text/html": "Syncing run <strong><a href='https://wandb.ai/skyrr/transformer_from_scratch/runs/m2xufj2q' target=\"_blank\">lunar-frost-51</a></strong> to <a href='https://wandb.ai/skyrr/transformer_from_scratch' target=\"_blank\">Weights & Biases</a> (<a href='https://wandb.me/run' target=\"_blank\">docs</a>)<br/>"
     },
     "metadata": {},
     "output_type": "display_data"
    },
    {
     "data": {
      "text/plain": "<IPython.core.display.HTML object>",
      "text/html": " View project at <a href='https://wandb.ai/skyrr/transformer_from_scratch' target=\"_blank\">https://wandb.ai/skyrr/transformer_from_scratch</a>"
     },
     "metadata": {},
     "output_type": "display_data"
    },
    {
     "data": {
      "text/plain": "<IPython.core.display.HTML object>",
      "text/html": " View run at <a href='https://wandb.ai/skyrr/transformer_from_scratch/runs/m2xufj2q' target=\"_blank\">https://wandb.ai/skyrr/transformer_from_scratch/runs/m2xufj2q</a>"
     },
     "metadata": {},
     "output_type": "display_data"
    },
    {
     "data": {
      "text/html": "<button onClick=\"this.nextSibling.style.display='block';this.style.display='none';\">Display W&B run</button><iframe src='https://wandb.ai/skyrr/transformer_from_scratch/runs/m2xufj2q?jupyter=true' style='border:none;width:100%;height:420px;display:none;'></iframe>",
      "text/plain": "<wandb.sdk.wandb_run.Run at 0x7fb3b1413450>"
     },
     "execution_count": 8,
     "metadata": {},
     "output_type": "execute_result"
    }
   ],
   "source": [
    "wandb.init(\n",
    "    project=\"transformer_from_scratch\",\n",
    "    config={\n",
    "        \"embedd_dim\": embedd_dim,\n",
    "        \"num_heads\": num_heads,\n",
    "        \"dropout_p\": dropout_p,\n",
    "        \"feed_forward_size\": feed_forward_size,\n",
    "        \"num_layers\": num_layers,\n",
    "        \"vocab_size\": vocab_size,\n",
    "        \"test_lr\": test_lr,\n",
    "        \"block_size\": block_size,\n",
    "        \"weight_decay\": weight_decay,\n",
    "        \"epochs\": epochs,\n",
    "        \"batch_size\": batch_size\n",
    "    }\n",
    "\n",
    ")"
   ],
   "metadata": {
    "collapsed": false,
    "ExecuteTime": {
     "end_time": "2023-12-14T20:46:02.251694328Z",
     "start_time": "2023-12-14T20:45:58.919055366Z"
    }
   },
   "id": "b0e49929855acffe"
  },
  {
   "cell_type": "code",
   "execution_count": 9,
   "outputs": [],
   "source": [
    "# table = wandb.Table(columns=[\"predicted_text\", \"real_text\"])\n",
    "table = None"
   ],
   "metadata": {
    "collapsed": false,
    "ExecuteTime": {
     "end_time": "2023-12-14T20:46:03.653942380Z",
     "start_time": "2023-12-14T20:46:03.624841690Z"
    }
   },
   "id": "ae5d7cbc9731a0d6"
  },
  {
   "cell_type": "code",
   "execution_count": 10,
   "outputs": [],
   "source": [
    "transformer = TransformerDecoder(embedd_dim, num_heads, dropout_p, feed_forward_size, num_layers, vocab_size,\n",
    "                                     block_size)\n",
    "trainer = TransformerTrainer(transformer, th.optim.AdamW, th.nn.CrossEntropyLoss, test_lr, block_size, weight_decay,vocab, table)"
   ],
   "metadata": {
    "collapsed": false,
    "ExecuteTime": {
     "end_time": "2023-12-14T20:46:04.372074241Z",
     "start_time": "2023-12-14T20:46:04.185460827Z"
    }
   },
   "id": "1a11d220705bf9a1"
  },
  {
   "cell_type": "code",
   "execution_count": 11,
   "outputs": [],
   "source": [
    "data = list(chain.from_iterable(text))"
   ],
   "metadata": {
    "collapsed": false,
    "ExecuteTime": {
     "end_time": "2023-12-14T20:46:05.186447269Z",
     "start_time": "2023-12-14T20:46:05.158298340Z"
    }
   },
   "id": "696b8a92bb8e0d1a"
  },
  {
   "cell_type": "code",
   "execution_count": 12,
   "outputs": [],
   "source": [
    "test = data[:int(len(data) * 0.1)]\n",
    "val = data[int(len(data) * 0.1):int(len(data) * 0.2)]\n",
    "train = data[int(len(data) * 0.2):]\n",
    "train = th.tensor(train).long()\n",
    "# val = th.tensor(val).long()\n",
    "test = th.tensor(test).long()"
   ],
   "metadata": {
    "collapsed": false,
    "ExecuteTime": {
     "end_time": "2023-12-14T20:46:05.842146086Z",
     "start_time": "2023-12-14T20:46:05.792586402Z"
    }
   },
   "id": "690e98f64b9879c6"
  },
  {
   "cell_type": "code",
   "execution_count": 13,
   "outputs": [
    {
     "name": "stderr",
     "output_type": "stream",
     "text": [
      "Epoch: 0 Loss: 6.502825736999512:   0%|          | 0/1501 [00:00<?, ?it/s]\n",
      "  0%|          | 0/50 [00:00<?, ?it/s]\u001B[A\n",
      "Test Epoch: 0 Loss: 5.106076240539551:   0%|          | 0/50 [00:00<?, ?it/s]\u001B[A\n",
      "Test Epoch: 1 Loss: 5.116947650909424:   0%|          | 0/50 [00:00<?, ?it/s]\u001B[A\n",
      "Test Epoch: 1 Loss: 5.116947650909424:   4%|▍         | 2/50 [00:00<00:03, 15.17it/s]\u001B[A\n",
      "Test Epoch: 2 Loss: 5.090200901031494:   4%|▍         | 2/50 [00:00<00:03, 15.17it/s]\u001B[A\n",
      "Test Epoch: 3 Loss: 5.126475811004639:   4%|▍         | 2/50 [00:00<00:03, 15.17it/s]\u001B[A\n",
      "Test Epoch: 3 Loss: 5.126475811004639:   8%|▊         | 4/50 [00:00<00:02, 15.43it/s]\u001B[A\n",
      "Test Epoch: 4 Loss: 5.136288642883301:   8%|▊         | 4/50 [00:00<00:02, 15.43it/s]\u001B[A\n",
      "Test Epoch: 5 Loss: 5.122591972351074:   8%|▊         | 4/50 [00:00<00:02, 15.43it/s]\u001B[A\n",
      "Test Epoch: 5 Loss: 5.122591972351074:  12%|█▏        | 6/50 [00:00<00:02, 15.41it/s]\u001B[A\n",
      "Test Epoch: 6 Loss: 5.133145809173584:  12%|█▏        | 6/50 [00:00<00:02, 15.41it/s]\u001B[A\n",
      "Test Epoch: 7 Loss: 5.125111103057861:  12%|█▏        | 6/50 [00:00<00:02, 15.41it/s]\u001B[A\n",
      "Test Epoch: 7 Loss: 5.125111103057861:  16%|█▌        | 8/50 [00:00<00:02, 15.35it/s]\u001B[A\n",
      "Test Epoch: 8 Loss: 5.0936126708984375:  16%|█▌        | 8/50 [00:00<00:02, 15.35it/s]\u001B[A\n",
      "Test Epoch: 9 Loss: 5.093602657318115:  16%|█▌        | 8/50 [00:00<00:02, 15.35it/s] \u001B[A\n",
      "Test Epoch: 9 Loss: 5.093602657318115:  20%|██        | 10/50 [00:00<00:02, 15.21it/s]\u001B[A\n",
      "Test Epoch: 10 Loss: 5.121914863586426:  20%|██        | 10/50 [00:00<00:02, 15.21it/s]\u001B[A\n",
      "Test Epoch: 11 Loss: 5.1000494956970215:  20%|██        | 10/50 [00:00<00:02, 15.21it/s]\u001B[A\n",
      "Test Epoch: 11 Loss: 5.1000494956970215:  24%|██▍       | 12/50 [00:00<00:02, 15.30it/s]\u001B[A\n",
      "Test Epoch: 12 Loss: 5.1266255378723145:  24%|██▍       | 12/50 [00:00<00:02, 15.30it/s]\u001B[A\n",
      "Test Epoch: 13 Loss: 5.094491481781006:  24%|██▍       | 12/50 [00:00<00:02, 15.30it/s] \u001B[A\n",
      "Test Epoch: 13 Loss: 5.094491481781006:  28%|██▊       | 14/50 [00:00<00:02, 15.33it/s]\u001B[A\n",
      "Test Epoch: 14 Loss: 5.089249610900879:  28%|██▊       | 14/50 [00:00<00:02, 15.33it/s]\u001B[A\n",
      "Test Epoch: 15 Loss: 5.079372406005859:  28%|██▊       | 14/50 [00:01<00:02, 15.33it/s]\u001B[A\n",
      "Test Epoch: 15 Loss: 5.079372406005859:  32%|███▏      | 16/50 [00:01<00:02, 15.38it/s]\u001B[A\n",
      "Test Epoch: 16 Loss: 5.10587739944458:  32%|███▏      | 16/50 [00:01<00:02, 15.38it/s] \u001B[A\n",
      "Test Epoch: 17 Loss: 5.129281520843506:  32%|███▏      | 16/50 [00:01<00:02, 15.38it/s]\u001B[A\n",
      "Test Epoch: 17 Loss: 5.129281520843506:  36%|███▌      | 18/50 [00:01<00:02, 15.30it/s]\u001B[A\n",
      "Test Epoch: 18 Loss: 5.115853786468506:  36%|███▌      | 18/50 [00:01<00:02, 15.30it/s]\u001B[A\n",
      "Test Epoch: 19 Loss: 5.096714496612549:  36%|███▌      | 18/50 [00:01<00:02, 15.30it/s]\u001B[A\n",
      "Test Epoch: 19 Loss: 5.096714496612549:  40%|████      | 20/50 [00:01<00:01, 15.34it/s]\u001B[A\n",
      "Test Epoch: 20 Loss: 5.1156840324401855:  40%|████      | 20/50 [00:01<00:01, 15.34it/s]\u001B[A\n",
      "Test Epoch: 21 Loss: 5.114548206329346:  40%|████      | 20/50 [00:01<00:01, 15.34it/s] \u001B[A\n",
      "Test Epoch: 21 Loss: 5.114548206329346:  44%|████▍     | 22/50 [00:01<00:01, 15.37it/s]\u001B[A\n",
      "Test Epoch: 22 Loss: 5.107943534851074:  44%|████▍     | 22/50 [00:01<00:01, 15.37it/s]\u001B[A\n",
      "Test Epoch: 23 Loss: 5.07283878326416:  44%|████▍     | 22/50 [00:01<00:01, 15.37it/s] \u001B[A\n",
      "Test Epoch: 23 Loss: 5.07283878326416:  48%|████▊     | 24/50 [00:01<00:01, 15.35it/s]\u001B[A\n",
      "Test Epoch: 24 Loss: 5.14736270904541:  48%|████▊     | 24/50 [00:01<00:01, 15.35it/s]\u001B[A\n",
      "Test Epoch: 25 Loss: 5.12565803527832:  48%|████▊     | 24/50 [00:01<00:01, 15.35it/s]\u001B[A\n",
      "Test Epoch: 25 Loss: 5.12565803527832:  52%|█████▏    | 26/50 [00:01<00:01, 15.30it/s]\u001B[A\n",
      "Test Epoch: 26 Loss: 5.083250045776367:  52%|█████▏    | 26/50 [00:01<00:01, 15.30it/s]\u001B[A\n",
      "Test Epoch: 27 Loss: 5.147906303405762:  52%|█████▏    | 26/50 [00:01<00:01, 15.30it/s]\u001B[A\n",
      "Test Epoch: 27 Loss: 5.147906303405762:  56%|█████▌    | 28/50 [00:01<00:01, 15.34it/s]\u001B[A\n",
      "Test Epoch: 28 Loss: 5.116191864013672:  56%|█████▌    | 28/50 [00:01<00:01, 15.34it/s]\u001B[A\n",
      "Test Epoch: 29 Loss: 5.112038612365723:  56%|█████▌    | 28/50 [00:01<00:01, 15.34it/s]\u001B[A\n",
      "Test Epoch: 29 Loss: 5.112038612365723:  60%|██████    | 30/50 [00:01<00:01, 15.31it/s]\u001B[A\n",
      "Test Epoch: 30 Loss: 5.104152202606201:  60%|██████    | 30/50 [00:02<00:01, 15.31it/s]\u001B[A\n",
      "Test Epoch: 31 Loss: 5.128293514251709:  60%|██████    | 30/50 [00:02<00:01, 15.31it/s]\u001B[A\n",
      "Test Epoch: 31 Loss: 5.128293514251709:  64%|██████▍   | 32/50 [00:02<00:01, 15.29it/s]\u001B[A\n",
      "Test Epoch: 32 Loss: 5.103043079376221:  64%|██████▍   | 32/50 [00:02<00:01, 15.29it/s]\u001B[A\n",
      "Test Epoch: 33 Loss: 5.117706298828125:  64%|██████▍   | 32/50 [00:02<00:01, 15.29it/s]\u001B[A\n",
      "Test Epoch: 33 Loss: 5.117706298828125:  68%|██████▊   | 34/50 [00:02<00:01, 15.33it/s]\u001B[A\n",
      "Test Epoch: 34 Loss: 5.084831714630127:  68%|██████▊   | 34/50 [00:02<00:01, 15.33it/s]\u001B[A\n",
      "Test Epoch: 35 Loss: 5.1064910888671875:  68%|██████▊   | 34/50 [00:02<00:01, 15.33it/s]\u001B[A\n",
      "Test Epoch: 35 Loss: 5.1064910888671875:  72%|███████▏  | 36/50 [00:02<00:00, 15.39it/s]\u001B[A\n",
      "Test Epoch: 36 Loss: 5.098981857299805:  72%|███████▏  | 36/50 [00:02<00:00, 15.39it/s] \u001B[A\n",
      "Test Epoch: 37 Loss: 5.128781795501709:  72%|███████▏  | 36/50 [00:02<00:00, 15.39it/s]\u001B[A\n",
      "Test Epoch: 37 Loss: 5.128781795501709:  76%|███████▌  | 38/50 [00:02<00:00, 15.36it/s]\u001B[A\n",
      "Test Epoch: 38 Loss: 5.107349395751953:  76%|███████▌  | 38/50 [00:02<00:00, 15.36it/s]\u001B[A\n",
      "Test Epoch: 39 Loss: 5.120207786560059:  76%|███████▌  | 38/50 [00:02<00:00, 15.36it/s]\u001B[A\n",
      "Test Epoch: 39 Loss: 5.120207786560059:  80%|████████  | 40/50 [00:02<00:00, 15.33it/s]\u001B[A\n",
      "Test Epoch: 40 Loss: 5.083276271820068:  80%|████████  | 40/50 [00:02<00:00, 15.33it/s]\u001B[A\n",
      "Test Epoch: 41 Loss: 5.096386432647705:  80%|████████  | 40/50 [00:02<00:00, 15.33it/s]\u001B[A\n",
      "Test Epoch: 41 Loss: 5.096386432647705:  84%|████████▍ | 42/50 [00:02<00:00, 15.36it/s]\u001B[A\n",
      "Test Epoch: 42 Loss: 5.128146648406982:  84%|████████▍ | 42/50 [00:02<00:00, 15.36it/s]\u001B[A\n",
      "Test Epoch: 43 Loss: 5.128130912780762:  84%|████████▍ | 42/50 [00:02<00:00, 15.36it/s]\u001B[A\n",
      "Test Epoch: 43 Loss: 5.128130912780762:  88%|████████▊ | 44/50 [00:02<00:00, 15.32it/s]\u001B[A\n",
      "Test Epoch: 44 Loss: 5.092343807220459:  88%|████████▊ | 44/50 [00:02<00:00, 15.32it/s]\u001B[A\n",
      "Test Epoch: 45 Loss: 5.0944390296936035:  88%|████████▊ | 44/50 [00:03<00:00, 15.32it/s]\u001B[A\n",
      "Test Epoch: 45 Loss: 5.0944390296936035:  92%|█████████▏| 46/50 [00:03<00:00, 15.30it/s]\u001B[A\n",
      "Test Epoch: 46 Loss: 5.133153915405273:  92%|█████████▏| 46/50 [00:03<00:00, 15.30it/s] \u001B[A\n",
      "Test Epoch: 47 Loss: 5.108819484710693:  92%|█████████▏| 46/50 [00:03<00:00, 15.30it/s]\u001B[A\n",
      "Test Epoch: 47 Loss: 5.108819484710693:  96%|█████████▌| 48/50 [00:03<00:00, 15.27it/s]\u001B[A\n",
      "Test Epoch: 48 Loss: 5.0972819328308105:  96%|█████████▌| 48/50 [00:03<00:00, 15.27it/s]\u001B[A\n",
      "Test Epoch: 49 Loss: 5.128886699676514:  96%|█████████▌| 48/50 [00:03<00:00, 15.27it/s] \u001B[A\n",
      "Test Epoch: 49 Loss: 5.128886699676514: 100%|██████████| 50/50 [00:03<00:00, 15.32it/s]\u001B[A\n",
      "Epoch: 500 Loss: 3.2519454956054688:  33%|███▎      | 500/1501 [01:29<02:51,  5.84it/s]\n",
      "  0%|          | 0/50 [00:00<?, ?it/s]\u001B[A\n",
      "Test Epoch: 0 Loss: 3.505664110183716:   0%|          | 0/50 [00:00<?, ?it/s]\u001B[A\n",
      "Test Epoch: 1 Loss: 3.4499988555908203:   0%|          | 0/50 [00:00<?, ?it/s]\u001B[A\n",
      "Test Epoch: 1 Loss: 3.4499988555908203:   4%|▍         | 2/50 [00:00<00:03, 14.18it/s]\u001B[A\n",
      "Test Epoch: 2 Loss: 3.485544204711914:   4%|▍         | 2/50 [00:00<00:03, 14.18it/s] \u001B[A\n",
      "Test Epoch: 3 Loss: 3.479947090148926:   4%|▍         | 2/50 [00:00<00:03, 14.18it/s]\u001B[A\n",
      "Test Epoch: 3 Loss: 3.479947090148926:   8%|▊         | 4/50 [00:00<00:03, 14.70it/s]\u001B[A\n",
      "Test Epoch: 4 Loss: 3.4720921516418457:   8%|▊         | 4/50 [00:00<00:03, 14.70it/s]\u001B[A\n",
      "Test Epoch: 5 Loss: 3.472194194793701:   8%|▊         | 4/50 [00:00<00:03, 14.70it/s] \u001B[A\n",
      "Test Epoch: 5 Loss: 3.472194194793701:  12%|█▏        | 6/50 [00:00<00:02, 14.92it/s]\u001B[A\n",
      "Test Epoch: 6 Loss: 3.492000102996826:  12%|█▏        | 6/50 [00:00<00:02, 14.92it/s]\u001B[A\n",
      "Test Epoch: 7 Loss: 3.54264235496521:  12%|█▏        | 6/50 [00:00<00:02, 14.92it/s] \u001B[A\n",
      "Test Epoch: 7 Loss: 3.54264235496521:  16%|█▌        | 8/50 [00:00<00:02, 15.09it/s]\u001B[A\n",
      "Test Epoch: 8 Loss: 3.500119924545288:  16%|█▌        | 8/50 [00:00<00:02, 15.09it/s]\u001B[A\n",
      "Test Epoch: 9 Loss: 3.4686474800109863:  16%|█▌        | 8/50 [00:00<00:02, 15.09it/s]\u001B[A\n",
      "Test Epoch: 9 Loss: 3.4686474800109863:  20%|██        | 10/50 [00:00<00:02, 15.17it/s]\u001B[A\n",
      "Test Epoch: 10 Loss: 3.4880518913269043:  20%|██        | 10/50 [00:00<00:02, 15.17it/s]\u001B[A\n",
      "Test Epoch: 11 Loss: 3.4822769165039062:  20%|██        | 10/50 [00:00<00:02, 15.17it/s]\u001B[A\n",
      "Test Epoch: 11 Loss: 3.4822769165039062:  24%|██▍       | 12/50 [00:00<00:02, 15.13it/s]\u001B[A\n",
      "Test Epoch: 12 Loss: 3.5304012298583984:  24%|██▍       | 12/50 [00:00<00:02, 15.13it/s]\u001B[A\n",
      "Test Epoch: 13 Loss: 3.455874443054199:  24%|██▍       | 12/50 [00:00<00:02, 15.13it/s] \u001B[A\n",
      "Test Epoch: 13 Loss: 3.455874443054199:  28%|██▊       | 14/50 [00:00<00:02, 15.17it/s]\u001B[A\n",
      "Test Epoch: 14 Loss: 3.476179599761963:  28%|██▊       | 14/50 [00:00<00:02, 15.17it/s]\u001B[A\n",
      "Test Epoch: 15 Loss: 3.504877805709839:  28%|██▊       | 14/50 [00:01<00:02, 15.17it/s]\u001B[A\n",
      "Test Epoch: 15 Loss: 3.504877805709839:  32%|███▏      | 16/50 [00:01<00:02, 15.13it/s]\u001B[A\n",
      "Test Epoch: 16 Loss: 3.4711825847625732:  32%|███▏      | 16/50 [00:01<00:02, 15.13it/s]\u001B[A\n",
      "Test Epoch: 17 Loss: 3.4878482818603516:  32%|███▏      | 16/50 [00:01<00:02, 15.13it/s]\u001B[A\n",
      "Test Epoch: 17 Loss: 3.4878482818603516:  36%|███▌      | 18/50 [00:01<00:02, 15.16it/s]\u001B[A\n",
      "Test Epoch: 18 Loss: 3.483487844467163:  36%|███▌      | 18/50 [00:01<00:02, 15.16it/s] \u001B[A\n",
      "Test Epoch: 19 Loss: 3.504359245300293:  36%|███▌      | 18/50 [00:01<00:02, 15.16it/s]\u001B[A\n",
      "Test Epoch: 19 Loss: 3.504359245300293:  40%|████      | 20/50 [00:01<00:01, 15.07it/s]\u001B[A\n",
      "Test Epoch: 20 Loss: 3.522120475769043:  40%|████      | 20/50 [00:01<00:01, 15.07it/s]\u001B[A\n",
      "Test Epoch: 21 Loss: 3.4874370098114014:  40%|████      | 20/50 [00:01<00:01, 15.07it/s]\u001B[A\n",
      "Test Epoch: 21 Loss: 3.4874370098114014:  44%|████▍     | 22/50 [00:01<00:01, 15.08it/s]\u001B[A\n",
      "Test Epoch: 22 Loss: 3.4724206924438477:  44%|████▍     | 22/50 [00:01<00:01, 15.08it/s]\u001B[A\n",
      "Test Epoch: 23 Loss: 3.4943299293518066:  44%|████▍     | 22/50 [00:01<00:01, 15.08it/s]\u001B[A\n",
      "Test Epoch: 23 Loss: 3.4943299293518066:  48%|████▊     | 24/50 [00:01<00:01, 15.08it/s]\u001B[A\n",
      "Test Epoch: 24 Loss: 3.462170362472534:  48%|████▊     | 24/50 [00:01<00:01, 15.08it/s] \u001B[A\n",
      "Test Epoch: 25 Loss: 3.5441439151763916:  48%|████▊     | 24/50 [00:01<00:01, 15.08it/s]\u001B[A\n",
      "Test Epoch: 25 Loss: 3.5441439151763916:  52%|█████▏    | 26/50 [00:01<00:01, 15.09it/s]\u001B[A\n",
      "Test Epoch: 26 Loss: 3.4682648181915283:  52%|█████▏    | 26/50 [00:01<00:01, 15.09it/s]\u001B[A\n",
      "Test Epoch: 27 Loss: 3.496476888656616:  52%|█████▏    | 26/50 [00:01<00:01, 15.09it/s] \u001B[A\n",
      "Test Epoch: 27 Loss: 3.496476888656616:  56%|█████▌    | 28/50 [00:01<00:01, 15.06it/s]\u001B[A\n",
      "Test Epoch: 28 Loss: 3.5316500663757324:  56%|█████▌    | 28/50 [00:01<00:01, 15.06it/s]\u001B[A\n",
      "Test Epoch: 29 Loss: 3.527540683746338:  56%|█████▌    | 28/50 [00:01<00:01, 15.06it/s] \u001B[A\n",
      "Test Epoch: 29 Loss: 3.527540683746338:  60%|██████    | 30/50 [00:01<00:01, 15.07it/s]\u001B[A\n",
      "Test Epoch: 30 Loss: 3.465934991836548:  60%|██████    | 30/50 [00:02<00:01, 15.07it/s]\u001B[A\n",
      "Test Epoch: 31 Loss: 3.4892940521240234:  60%|██████    | 30/50 [00:02<00:01, 15.07it/s]\u001B[A\n",
      "Test Epoch: 31 Loss: 3.4892940521240234:  64%|██████▍   | 32/50 [00:02<00:01, 14.99it/s]\u001B[A\n",
      "Test Epoch: 32 Loss: 3.488003730773926:  64%|██████▍   | 32/50 [00:02<00:01, 14.99it/s] \u001B[A\n",
      "Test Epoch: 33 Loss: 3.566993474960327:  64%|██████▍   | 32/50 [00:02<00:01, 14.99it/s]\u001B[A\n",
      "Test Epoch: 33 Loss: 3.566993474960327:  68%|██████▊   | 34/50 [00:02<00:01, 14.95it/s]\u001B[A\n",
      "Test Epoch: 34 Loss: 3.4875781536102295:  68%|██████▊   | 34/50 [00:02<00:01, 14.95it/s]\u001B[A\n",
      "Test Epoch: 35 Loss: 3.4467108249664307:  68%|██████▊   | 34/50 [00:02<00:01, 14.95it/s]\u001B[A\n",
      "Test Epoch: 35 Loss: 3.4467108249664307:  72%|███████▏  | 36/50 [00:02<00:00, 14.99it/s]\u001B[A\n",
      "Test Epoch: 36 Loss: 3.4705920219421387:  72%|███████▏  | 36/50 [00:02<00:00, 14.99it/s]\u001B[A\n",
      "Test Epoch: 37 Loss: 3.5155766010284424:  72%|███████▏  | 36/50 [00:02<00:00, 14.99it/s]\u001B[A\n",
      "Test Epoch: 37 Loss: 3.5155766010284424:  76%|███████▌  | 38/50 [00:02<00:00, 14.99it/s]\u001B[A\n",
      "Test Epoch: 38 Loss: 3.465397357940674:  76%|███████▌  | 38/50 [00:02<00:00, 14.99it/s] \u001B[A\n",
      "Test Epoch: 39 Loss: 3.512582302093506:  76%|███████▌  | 38/50 [00:02<00:00, 14.99it/s]\u001B[A\n",
      "Test Epoch: 39 Loss: 3.512582302093506:  80%|████████  | 40/50 [00:02<00:00, 14.99it/s]\u001B[A\n",
      "Test Epoch: 40 Loss: 3.445389986038208:  80%|████████  | 40/50 [00:02<00:00, 14.99it/s]\u001B[A\n",
      "Test Epoch: 41 Loss: 3.4760005474090576:  80%|████████  | 40/50 [00:02<00:00, 14.99it/s]\u001B[A\n",
      "Test Epoch: 41 Loss: 3.4760005474090576:  84%|████████▍ | 42/50 [00:02<00:00, 15.03it/s]\u001B[A\n",
      "Test Epoch: 42 Loss: 3.4662792682647705:  84%|████████▍ | 42/50 [00:02<00:00, 15.03it/s]\u001B[A\n",
      "Test Epoch: 43 Loss: 3.4803647994995117:  84%|████████▍ | 42/50 [00:02<00:00, 15.03it/s]\u001B[A\n",
      "Test Epoch: 43 Loss: 3.4803647994995117:  88%|████████▊ | 44/50 [00:02<00:00, 14.98it/s]\u001B[A\n",
      "Test Epoch: 44 Loss: 3.554494857788086:  88%|████████▊ | 44/50 [00:02<00:00, 14.98it/s] \u001B[A\n",
      "Test Epoch: 45 Loss: 3.48291277885437:  88%|████████▊ | 44/50 [00:03<00:00, 14.98it/s] \u001B[A\n",
      "Test Epoch: 45 Loss: 3.48291277885437:  92%|█████████▏| 46/50 [00:03<00:00, 14.97it/s]\u001B[A\n",
      "Test Epoch: 46 Loss: 3.431861639022827:  92%|█████████▏| 46/50 [00:03<00:00, 14.97it/s]\u001B[A\n",
      "Test Epoch: 47 Loss: 3.494259834289551:  92%|█████████▏| 46/50 [00:03<00:00, 14.97it/s]\u001B[A\n",
      "Test Epoch: 47 Loss: 3.494259834289551:  96%|█████████▌| 48/50 [00:03<00:00, 14.97it/s]\u001B[A\n",
      "Test Epoch: 48 Loss: 3.4748973846435547:  96%|█████████▌| 48/50 [00:03<00:00, 14.97it/s]\u001B[A\n",
      "Test Epoch: 49 Loss: 3.507920980453491:  96%|█████████▌| 48/50 [00:03<00:00, 14.97it/s] \u001B[A\n",
      "Test Epoch: 49 Loss: 3.507920980453491: 100%|██████████| 50/50 [00:03<00:00, 15.01it/s]\u001B[A\n",
      "Epoch: 1000 Loss: 3.0463144779205322:  67%|██████▋   | 1000/1501 [02:58<01:25,  5.83it/s]\n",
      "  0%|          | 0/50 [00:00<?, ?it/s]\u001B[A\n",
      "Test Epoch: 0 Loss: 3.310041666030884:   0%|          | 0/50 [00:00<?, ?it/s]\u001B[A\n",
      "Test Epoch: 1 Loss: 3.3329195976257324:   0%|          | 0/50 [00:00<?, ?it/s]\u001B[A\n",
      "Test Epoch: 1 Loss: 3.3329195976257324:   4%|▍         | 2/50 [00:00<00:03, 13.99it/s]\u001B[A\n",
      "Test Epoch: 2 Loss: 3.357909917831421:   4%|▍         | 2/50 [00:00<00:03, 13.99it/s] \u001B[A\n",
      "Test Epoch: 3 Loss: 3.399305582046509:   4%|▍         | 2/50 [00:00<00:03, 13.99it/s]\u001B[A\n",
      "Test Epoch: 3 Loss: 3.399305582046509:   8%|▊         | 4/50 [00:00<00:03, 14.77it/s]\u001B[A\n",
      "Test Epoch: 4 Loss: 3.339979648590088:   8%|▊         | 4/50 [00:00<00:03, 14.77it/s]\u001B[A\n",
      "Test Epoch: 5 Loss: 3.3463211059570312:   8%|▊         | 4/50 [00:00<00:03, 14.77it/s]\u001B[A\n",
      "Test Epoch: 5 Loss: 3.3463211059570312:  12%|█▏        | 6/50 [00:00<00:02, 14.83it/s]\u001B[A\n",
      "Test Epoch: 6 Loss: 3.3500759601593018:  12%|█▏        | 6/50 [00:00<00:02, 14.83it/s]\u001B[A\n",
      "Test Epoch: 7 Loss: 3.3829686641693115:  12%|█▏        | 6/50 [00:00<00:02, 14.83it/s]\u001B[A\n",
      "Test Epoch: 7 Loss: 3.3829686641693115:  16%|█▌        | 8/50 [00:00<00:02, 15.01it/s]\u001B[A\n",
      "Test Epoch: 8 Loss: 3.3949594497680664:  16%|█▌        | 8/50 [00:00<00:02, 15.01it/s]\u001B[A\n",
      "Test Epoch: 9 Loss: 3.400336265563965:  16%|█▌        | 8/50 [00:00<00:02, 15.01it/s] \u001B[A\n",
      "Test Epoch: 9 Loss: 3.400336265563965:  20%|██        | 10/50 [00:00<00:02, 15.17it/s]\u001B[A\n",
      "Test Epoch: 10 Loss: 3.3126354217529297:  20%|██        | 10/50 [00:00<00:02, 15.17it/s]\u001B[A\n",
      "Test Epoch: 11 Loss: 3.342634439468384:  20%|██        | 10/50 [00:00<00:02, 15.17it/s] \u001B[A\n",
      "Test Epoch: 11 Loss: 3.342634439468384:  24%|██▍       | 12/50 [00:00<00:02, 15.21it/s]\u001B[A\n",
      "Test Epoch: 12 Loss: 3.3703746795654297:  24%|██▍       | 12/50 [00:00<00:02, 15.21it/s]\u001B[A\n",
      "Test Epoch: 13 Loss: 3.3210155963897705:  24%|██▍       | 12/50 [00:00<00:02, 15.21it/s]\u001B[A\n",
      "Test Epoch: 13 Loss: 3.3210155963897705:  28%|██▊       | 14/50 [00:00<00:02, 14.94it/s]\u001B[A\n",
      "Test Epoch: 14 Loss: 3.3319904804229736:  28%|██▊       | 14/50 [00:01<00:02, 14.94it/s]\u001B[A\n",
      "Test Epoch: 15 Loss: 3.3211379051208496:  28%|██▊       | 14/50 [00:01<00:02, 14.94it/s]\u001B[A\n",
      "Test Epoch: 15 Loss: 3.3211379051208496:  32%|███▏      | 16/50 [00:01<00:02, 15.07it/s]\u001B[A\n",
      "Test Epoch: 16 Loss: 3.4155049324035645:  32%|███▏      | 16/50 [00:01<00:02, 15.07it/s]\u001B[A\n",
      "Test Epoch: 17 Loss: 3.403674364089966:  32%|███▏      | 16/50 [00:01<00:02, 15.07it/s] \u001B[A\n",
      "Test Epoch: 17 Loss: 3.403674364089966:  36%|███▌      | 18/50 [00:01<00:02, 15.12it/s]\u001B[A\n",
      "Test Epoch: 18 Loss: 3.3700380325317383:  36%|███▌      | 18/50 [00:01<00:02, 15.12it/s]\u001B[A\n",
      "Test Epoch: 19 Loss: 3.4153010845184326:  36%|███▌      | 18/50 [00:01<00:02, 15.12it/s]\u001B[A\n",
      "Test Epoch: 19 Loss: 3.4153010845184326:  40%|████      | 20/50 [00:01<00:01, 15.17it/s]\u001B[A\n",
      "Test Epoch: 20 Loss: 3.3681726455688477:  40%|████      | 20/50 [00:01<00:01, 15.17it/s]\u001B[A\n",
      "Test Epoch: 21 Loss: 3.349374294281006:  40%|████      | 20/50 [00:01<00:01, 15.17it/s] \u001B[A\n",
      "Test Epoch: 21 Loss: 3.349374294281006:  44%|████▍     | 22/50 [00:01<00:01, 15.15it/s]\u001B[A\n",
      "Test Epoch: 22 Loss: 3.3329193592071533:  44%|████▍     | 22/50 [00:01<00:01, 15.15it/s]\u001B[A\n",
      "Test Epoch: 23 Loss: 3.352355480194092:  44%|████▍     | 22/50 [00:01<00:01, 15.15it/s] \u001B[A\n",
      "Test Epoch: 23 Loss: 3.352355480194092:  48%|████▊     | 24/50 [00:01<00:01, 15.19it/s]\u001B[A\n",
      "Test Epoch: 24 Loss: 3.3681182861328125:  48%|████▊     | 24/50 [00:01<00:01, 15.19it/s]\u001B[A\n",
      "Test Epoch: 25 Loss: 3.3578989505767822:  48%|████▊     | 24/50 [00:01<00:01, 15.19it/s]\u001B[A\n",
      "Test Epoch: 25 Loss: 3.3578989505767822:  52%|█████▏    | 26/50 [00:01<00:01, 15.20it/s]\u001B[A\n",
      "Test Epoch: 26 Loss: 3.358346700668335:  52%|█████▏    | 26/50 [00:01<00:01, 15.20it/s] \u001B[A\n",
      "Test Epoch: 27 Loss: 3.330601930618286:  52%|█████▏    | 26/50 [00:01<00:01, 15.20it/s]\u001B[A\n",
      "Test Epoch: 27 Loss: 3.330601930618286:  56%|█████▌    | 28/50 [00:01<00:01, 15.18it/s]\u001B[A\n",
      "Test Epoch: 28 Loss: 3.3719241619110107:  56%|█████▌    | 28/50 [00:01<00:01, 15.18it/s]\u001B[A\n",
      "Test Epoch: 29 Loss: 3.327746868133545:  56%|█████▌    | 28/50 [00:01<00:01, 15.18it/s] \u001B[A\n",
      "Test Epoch: 29 Loss: 3.327746868133545:  60%|██████    | 30/50 [00:01<00:01, 15.16it/s]\u001B[A\n",
      "Test Epoch: 30 Loss: 3.3036086559295654:  60%|██████    | 30/50 [00:02<00:01, 15.16it/s]\u001B[A\n",
      "Test Epoch: 31 Loss: 3.3035953044891357:  60%|██████    | 30/50 [00:02<00:01, 15.16it/s]\u001B[A\n",
      "Test Epoch: 31 Loss: 3.3035953044891357:  64%|██████▍   | 32/50 [00:02<00:01, 15.17it/s]\u001B[A\n",
      "Test Epoch: 32 Loss: 3.3103315830230713:  64%|██████▍   | 32/50 [00:02<00:01, 15.17it/s]\u001B[A\n",
      "Test Epoch: 33 Loss: 3.347299337387085:  64%|██████▍   | 32/50 [00:02<00:01, 15.17it/s] \u001B[A\n",
      "Test Epoch: 33 Loss: 3.347299337387085:  68%|██████▊   | 34/50 [00:02<00:01, 15.16it/s]\u001B[A\n",
      "Test Epoch: 34 Loss: 3.3214657306671143:  68%|██████▊   | 34/50 [00:02<00:01, 15.16it/s]\u001B[A\n",
      "Test Epoch: 35 Loss: 3.3413546085357666:  68%|██████▊   | 34/50 [00:02<00:01, 15.16it/s]\u001B[A\n",
      "Test Epoch: 35 Loss: 3.3413546085357666:  72%|███████▏  | 36/50 [00:02<00:00, 15.16it/s]\u001B[A\n",
      "Test Epoch: 36 Loss: 3.2923426628112793:  72%|███████▏  | 36/50 [00:02<00:00, 15.16it/s]\u001B[A\n",
      "Test Epoch: 37 Loss: 3.349074363708496:  72%|███████▏  | 36/50 [00:02<00:00, 15.16it/s] \u001B[A\n",
      "Test Epoch: 37 Loss: 3.349074363708496:  76%|███████▌  | 38/50 [00:02<00:00, 15.09it/s]\u001B[A\n",
      "Test Epoch: 38 Loss: 3.370765209197998:  76%|███████▌  | 38/50 [00:02<00:00, 15.09it/s]\u001B[A\n",
      "Test Epoch: 39 Loss: 3.3446147441864014:  76%|███████▌  | 38/50 [00:02<00:00, 15.09it/s]\u001B[A\n",
      "Test Epoch: 39 Loss: 3.3446147441864014:  80%|████████  | 40/50 [00:02<00:00, 15.03it/s]\u001B[A\n",
      "Test Epoch: 40 Loss: 3.344696283340454:  80%|████████  | 40/50 [00:02<00:00, 15.03it/s] \u001B[A\n",
      "Test Epoch: 41 Loss: 3.3934316635131836:  80%|████████  | 40/50 [00:02<00:00, 15.03it/s]\u001B[A\n",
      "Test Epoch: 41 Loss: 3.3934316635131836:  84%|████████▍ | 42/50 [00:02<00:00, 15.00it/s]\u001B[A\n",
      "Test Epoch: 42 Loss: 3.3785877227783203:  84%|████████▍ | 42/50 [00:02<00:00, 15.00it/s]\u001B[A\n",
      "Test Epoch: 43 Loss: 3.3927001953125:  84%|████████▍ | 42/50 [00:02<00:00, 15.00it/s]   \u001B[A\n",
      "Test Epoch: 43 Loss: 3.3927001953125:  88%|████████▊ | 44/50 [00:02<00:00, 14.99it/s]\u001B[A\n",
      "Test Epoch: 44 Loss: 3.314253091812134:  88%|████████▊ | 44/50 [00:02<00:00, 14.99it/s]\u001B[A\n",
      "Test Epoch: 45 Loss: 3.3689701557159424:  88%|████████▊ | 44/50 [00:03<00:00, 14.99it/s]\u001B[A\n",
      "Test Epoch: 45 Loss: 3.3689701557159424:  92%|█████████▏| 46/50 [00:03<00:00, 15.00it/s]\u001B[A\n",
      "Test Epoch: 46 Loss: 3.3504817485809326:  92%|█████████▏| 46/50 [00:03<00:00, 15.00it/s]\u001B[A\n",
      "Test Epoch: 47 Loss: 3.3790338039398193:  92%|█████████▏| 46/50 [00:03<00:00, 15.00it/s]\u001B[A\n",
      "Test Epoch: 47 Loss: 3.3790338039398193:  96%|█████████▌| 48/50 [00:03<00:00, 14.98it/s]\u001B[A\n",
      "Test Epoch: 48 Loss: 3.318601608276367:  96%|█████████▌| 48/50 [00:03<00:00, 14.98it/s] \u001B[A\n",
      "Test Epoch: 49 Loss: 3.3018572330474854:  96%|█████████▌| 48/50 [00:03<00:00, 14.98it/s]\u001B[A\n",
      "Test Epoch: 49 Loss: 3.3018572330474854: 100%|██████████| 50/50 [00:03<00:00, 15.05it/s]\u001B[A\n",
      "Epoch: 1500 Loss: 2.765209674835205: 100%|█████████▉| 1500/1501 [04:27<00:00,  5.82it/s] \n",
      "  0%|          | 0/50 [00:00<?, ?it/s]\u001B[A\n",
      "Test Epoch: 0 Loss: 3.1895971298217773:   0%|          | 0/50 [00:00<?, ?it/s]\u001B[A\n",
      "Test Epoch: 1 Loss: 3.2205393314361572:   0%|          | 0/50 [00:00<?, ?it/s]\u001B[A\n",
      "Test Epoch: 1 Loss: 3.2205393314361572:   4%|▍         | 2/50 [00:00<00:03, 14.02it/s]\u001B[A\n",
      "Test Epoch: 2 Loss: 3.223672389984131:   4%|▍         | 2/50 [00:00<00:03, 14.02it/s] \u001B[A\n",
      "Test Epoch: 3 Loss: 3.158207893371582:   4%|▍         | 2/50 [00:00<00:03, 14.02it/s]\u001B[A\n",
      "Test Epoch: 3 Loss: 3.158207893371582:   8%|▊         | 4/50 [00:00<00:03, 14.68it/s]\u001B[A\n",
      "Test Epoch: 4 Loss: 3.297272205352783:   8%|▊         | 4/50 [00:00<00:03, 14.68it/s]\u001B[A\n",
      "Test Epoch: 5 Loss: 3.2525951862335205:   8%|▊         | 4/50 [00:00<00:03, 14.68it/s]\u001B[A\n",
      "Test Epoch: 5 Loss: 3.2525951862335205:  12%|█▏        | 6/50 [00:00<00:02, 14.89it/s]\u001B[A\n",
      "Test Epoch: 6 Loss: 3.1770095825195312:  12%|█▏        | 6/50 [00:00<00:02, 14.89it/s]\u001B[A\n",
      "Test Epoch: 7 Loss: 3.174239158630371:  12%|█▏        | 6/50 [00:00<00:02, 14.89it/s] \u001B[A\n",
      "Test Epoch: 7 Loss: 3.174239158630371:  16%|█▌        | 8/50 [00:00<00:02, 15.01it/s]\u001B[A\n",
      "Test Epoch: 8 Loss: 3.1941096782684326:  16%|█▌        | 8/50 [00:00<00:02, 15.01it/s]\u001B[A\n",
      "Test Epoch: 9 Loss: 3.1901967525482178:  16%|█▌        | 8/50 [00:00<00:02, 15.01it/s]\u001B[A\n",
      "Test Epoch: 9 Loss: 3.1901967525482178:  20%|██        | 10/50 [00:00<00:02, 15.04it/s]\u001B[A\n",
      "Test Epoch: 10 Loss: 3.172778606414795:  20%|██        | 10/50 [00:00<00:02, 15.04it/s]\u001B[A\n",
      "Test Epoch: 11 Loss: 3.204829692840576:  20%|██        | 10/50 [00:00<00:02, 15.04it/s]\u001B[A\n",
      "Test Epoch: 11 Loss: 3.204829692840576:  24%|██▍       | 12/50 [00:00<00:02, 15.07it/s]\u001B[A\n",
      "Test Epoch: 12 Loss: 3.1547975540161133:  24%|██▍       | 12/50 [00:00<00:02, 15.07it/s]\u001B[A\n",
      "Test Epoch: 13 Loss: 3.228071451187134:  24%|██▍       | 12/50 [00:00<00:02, 15.07it/s] \u001B[A\n",
      "Test Epoch: 13 Loss: 3.228071451187134:  28%|██▊       | 14/50 [00:00<00:02, 15.10it/s]\u001B[A\n",
      "Test Epoch: 14 Loss: 3.20597243309021:  28%|██▊       | 14/50 [00:01<00:02, 15.10it/s] \u001B[A\n",
      "Test Epoch: 15 Loss: 3.155547618865967:  28%|██▊       | 14/50 [00:01<00:02, 15.10it/s]\u001B[A\n",
      "Test Epoch: 15 Loss: 3.155547618865967:  32%|███▏      | 16/50 [00:01<00:02, 15.10it/s]\u001B[A\n",
      "Test Epoch: 16 Loss: 3.1820409297943115:  32%|███▏      | 16/50 [00:01<00:02, 15.10it/s]\u001B[A\n",
      "Test Epoch: 17 Loss: 3.1758525371551514:  32%|███▏      | 16/50 [00:01<00:02, 15.10it/s]\u001B[A\n",
      "Test Epoch: 17 Loss: 3.1758525371551514:  36%|███▌      | 18/50 [00:01<00:02, 15.13it/s]\u001B[A\n",
      "Test Epoch: 18 Loss: 3.3067407608032227:  36%|███▌      | 18/50 [00:01<00:02, 15.13it/s]\u001B[A\n",
      "Test Epoch: 19 Loss: 3.1617705821990967:  36%|███▌      | 18/50 [00:01<00:02, 15.13it/s]\u001B[A\n",
      "Test Epoch: 19 Loss: 3.1617705821990967:  40%|████      | 20/50 [00:01<00:01, 15.16it/s]\u001B[A\n",
      "Test Epoch: 20 Loss: 3.1387338638305664:  40%|████      | 20/50 [00:01<00:01, 15.16it/s]\u001B[A\n",
      "Test Epoch: 21 Loss: 3.2131574153900146:  40%|████      | 20/50 [00:01<00:01, 15.16it/s]\u001B[A\n",
      "Test Epoch: 21 Loss: 3.2131574153900146:  44%|████▍     | 22/50 [00:01<00:01, 14.99it/s]\u001B[A\n",
      "Test Epoch: 22 Loss: 3.157377243041992:  44%|████▍     | 22/50 [00:01<00:01, 14.99it/s] \u001B[A\n",
      "Test Epoch: 23 Loss: 3.166884183883667:  44%|████▍     | 22/50 [00:01<00:01, 14.99it/s]\u001B[A\n",
      "Test Epoch: 23 Loss: 3.166884183883667:  48%|████▊     | 24/50 [00:01<00:01, 15.03it/s]\u001B[A\n",
      "Test Epoch: 24 Loss: 3.1636948585510254:  48%|████▊     | 24/50 [00:01<00:01, 15.03it/s]\u001B[A\n",
      "Test Epoch: 25 Loss: 3.270294427871704:  48%|████▊     | 24/50 [00:01<00:01, 15.03it/s] \u001B[A\n",
      "Test Epoch: 25 Loss: 3.270294427871704:  52%|█████▏    | 26/50 [00:01<00:01, 15.06it/s]\u001B[A\n",
      "Test Epoch: 26 Loss: 3.179445505142212:  52%|█████▏    | 26/50 [00:01<00:01, 15.06it/s]\u001B[A\n",
      "Test Epoch: 27 Loss: 3.16222882270813:  52%|█████▏    | 26/50 [00:01<00:01, 15.06it/s] \u001B[A\n",
      "Test Epoch: 27 Loss: 3.16222882270813:  56%|█████▌    | 28/50 [00:01<00:01, 15.11it/s]\u001B[A\n",
      "Test Epoch: 28 Loss: 3.236053228378296:  56%|█████▌    | 28/50 [00:01<00:01, 15.11it/s]\u001B[A\n",
      "Test Epoch: 29 Loss: 3.206868886947632:  56%|█████▌    | 28/50 [00:01<00:01, 15.11it/s]\u001B[A\n",
      "Test Epoch: 29 Loss: 3.206868886947632:  60%|██████    | 30/50 [00:01<00:01, 15.04it/s]\u001B[A\n",
      "Test Epoch: 30 Loss: 3.1680898666381836:  60%|██████    | 30/50 [00:02<00:01, 15.04it/s]\u001B[A\n",
      "Test Epoch: 31 Loss: 3.2490475177764893:  60%|██████    | 30/50 [00:02<00:01, 15.04it/s]\u001B[A\n",
      "Test Epoch: 31 Loss: 3.2490475177764893:  64%|██████▍   | 32/50 [00:02<00:01, 15.08it/s]\u001B[A\n",
      "Test Epoch: 32 Loss: 3.179499387741089:  64%|██████▍   | 32/50 [00:02<00:01, 15.08it/s] \u001B[A\n",
      "Test Epoch: 33 Loss: 3.17317795753479:  64%|██████▍   | 32/50 [00:02<00:01, 15.08it/s] \u001B[A\n",
      "Test Epoch: 33 Loss: 3.17317795753479:  68%|██████▊   | 34/50 [00:02<00:01, 15.10it/s]\u001B[A\n",
      "Test Epoch: 34 Loss: 3.2080752849578857:  68%|██████▊   | 34/50 [00:02<00:01, 15.10it/s]\u001B[A\n",
      "Test Epoch: 35 Loss: 3.187124490737915:  68%|██████▊   | 34/50 [00:02<00:01, 15.10it/s] \u001B[A\n",
      "Test Epoch: 35 Loss: 3.187124490737915:  72%|███████▏  | 36/50 [00:02<00:00, 15.11it/s]\u001B[A\n",
      "Test Epoch: 36 Loss: 3.211667060852051:  72%|███████▏  | 36/50 [00:02<00:00, 15.11it/s]\u001B[A\n",
      "Test Epoch: 37 Loss: 3.2231624126434326:  72%|███████▏  | 36/50 [00:02<00:00, 15.11it/s]\u001B[A\n",
      "Test Epoch: 37 Loss: 3.2231624126434326:  76%|███████▌  | 38/50 [00:02<00:00, 15.08it/s]\u001B[A\n",
      "Test Epoch: 38 Loss: 3.1988327503204346:  76%|███████▌  | 38/50 [00:02<00:00, 15.08it/s]\u001B[A\n",
      "Test Epoch: 39 Loss: 3.1738007068634033:  76%|███████▌  | 38/50 [00:02<00:00, 15.08it/s]\u001B[A\n",
      "Test Epoch: 39 Loss: 3.1738007068634033:  80%|████████  | 40/50 [00:02<00:00, 15.09it/s]\u001B[A\n",
      "Test Epoch: 40 Loss: 3.1696643829345703:  80%|████████  | 40/50 [00:02<00:00, 15.09it/s]\u001B[A\n",
      "Test Epoch: 41 Loss: 3.2081940174102783:  80%|████████  | 40/50 [00:02<00:00, 15.09it/s]\u001B[A\n",
      "Test Epoch: 41 Loss: 3.2081940174102783:  84%|████████▍ | 42/50 [00:02<00:00, 15.12it/s]\u001B[A\n",
      "Test Epoch: 42 Loss: 3.2261457443237305:  84%|████████▍ | 42/50 [00:02<00:00, 15.12it/s]\u001B[A\n",
      "Test Epoch: 43 Loss: 3.247917652130127:  84%|████████▍ | 42/50 [00:02<00:00, 15.12it/s] \u001B[A\n",
      "Test Epoch: 43 Loss: 3.247917652130127:  88%|████████▊ | 44/50 [00:02<00:00, 15.15it/s]\u001B[A\n",
      "Test Epoch: 44 Loss: 3.1976022720336914:  88%|████████▊ | 44/50 [00:02<00:00, 15.15it/s]\u001B[A\n",
      "Test Epoch: 45 Loss: 3.202528953552246:  88%|████████▊ | 44/50 [00:03<00:00, 15.15it/s] \u001B[A\n",
      "Test Epoch: 45 Loss: 3.202528953552246:  92%|█████████▏| 46/50 [00:03<00:00, 15.05it/s]\u001B[A\n",
      "Test Epoch: 46 Loss: 3.20601487159729:  92%|█████████▏| 46/50 [00:03<00:00, 15.05it/s] \u001B[A\n",
      "Test Epoch: 47 Loss: 3.1358821392059326:  92%|█████████▏| 46/50 [00:03<00:00, 15.05it/s]\u001B[A\n",
      "Test Epoch: 47 Loss: 3.1358821392059326:  96%|█████████▌| 48/50 [00:03<00:00, 15.08it/s]\u001B[A\n",
      "Test Epoch: 48 Loss: 3.1792283058166504:  96%|█████████▌| 48/50 [00:03<00:00, 15.08it/s]\u001B[A\n",
      "Test Epoch: 49 Loss: 3.232407808303833:  96%|█████████▌| 48/50 [00:03<00:00, 15.08it/s] \u001B[A\n",
      "Test Epoch: 49 Loss: 3.232407808303833: 100%|██████████| 50/50 [00:03<00:00, 15.06it/s]\u001B[A\n",
      "Epoch: 1500 Loss: 2.765209674835205: 100%|██████████| 1501/1501 [04:30<00:00,  5.54it/s]\n"
     ]
    }
   ],
   "source": [
    "# print(len(train))\n",
    "trainer.train(train, test, epochs, batch_size)"
   ],
   "metadata": {
    "collapsed": false,
    "ExecuteTime": {
     "end_time": "2023-12-14T20:50:38.259606825Z",
     "start_time": "2023-12-14T20:46:07.236789530Z"
    }
   },
   "id": "65d1cbb8c9d3d89"
  },
  {
   "cell_type": "code",
   "execution_count": null,
   "outputs": [],
   "source": [
    "th.save({\n",
    "        \"model_state_dict\": transformer.state_dict(),\n",
    "        \"optimizer_state_dict\": trainer.optimizer.state_dict(),\n",
    "    }, \"model.pth\")\n",
    "# trainer.draw_losses()"
   ],
   "metadata": {
    "collapsed": false
   },
   "id": "b793284e4ee7b7b5"
  },
  {
   "cell_type": "code",
   "execution_count": null,
   "outputs": [],
   "source": [
    "input_ = encode([\"The Shade was\"],vocab)\n",
    "input_ = th.tensor(input_).long().cuda().reshape(1, -1)\n",
    "outputs = decode(transformer.generate(input_, 108, block_size), vocab)\n",
    "print(''.join(outputs))"
   ],
   "metadata": {
    "collapsed": false
   },
   "id": "24490ff89961aba0"
  },
  {
   "cell_type": "code",
   "execution_count": null,
   "outputs": [],
   "source": [
    "# wandb.finish()"
   ],
   "metadata": {
    "collapsed": false
   },
   "id": "22d0fc074c2ae28c"
  }
 ],
 "metadata": {
  "kernelspec": {
   "display_name": "Python 3",
   "language": "python",
   "name": "python3"
  },
  "language_info": {
   "codemirror_mode": {
    "name": "ipython",
    "version": 2
   },
   "file_extension": ".py",
   "mimetype": "text/x-python",
   "name": "python",
   "nbconvert_exporter": "python",
   "pygments_lexer": "ipython2",
   "version": "2.7.6"
  }
 },
 "nbformat": 4,
 "nbformat_minor": 5
}
