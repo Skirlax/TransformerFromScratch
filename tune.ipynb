{
 "cells": [
  {
   "cell_type": "code",
   "execution_count": null,
   "outputs": [],
   "source": [
    "%load_ext autoreload\n",
    "%autoreload 2\n",
    "import torch as th\n",
    "from Datasets.TinyShakespeare.prepare import prepare_to_tokenize\n",
    "from Embeddings.token_embeddings import encode, decode\n",
    "from TransformerModel.transformer import TransformerDecoder, TransformerTrainer\n",
    "import json\n",
    "import numpy as np\n",
    "from itertools import chain\n",
    "from Embeddings.constants import EmbedConstants\n",
    "import random\n",
    "import wandb\n",
    "import pickle"
   ],
   "metadata": {
    "collapsed": false
   },
   "id": "6b080fe89da9800f"
  },
  {
   "cell_type": "code",
   "execution_count": null,
   "outputs": [],
   "source": [
    "# text = prepare_to_tokenize(\"/home/skyr/PycharmProjects/TransformerFromScratch/Datasets/Inheritance/big_eragon.txt\")\n",
    "with open(\"/home/skyr/PycharmProjects/TransformerFromScratch/Datasets/Inheritance/vocab_big.json\", \"r\") as file:\n",
    "    vocab = json.load(file)"
   ],
   "metadata": {
    "collapsed": false
   },
   "id": "a11d0d239028b943"
  },
  {
   "cell_type": "markdown",
   "source": [
    "Tiny Shakespeare"
   ],
   "metadata": {
    "collapsed": false
   },
   "id": "7ff02f8be9c303fa"
  },
  {
   "cell_type": "code",
   "execution_count": null,
   "outputs": [],
   "source": [
    "# text = prepare_to_tokenize(\"/home/skyr/PycharmProjects/TransformerFromScratch/Datasets/TinyShakespeare/input.txt\")\n",
    "# with open(\"/home/skyr/PycharmProjects/TransformerFromScratch/Datasets/TinyShakespeare/vocab.json\", \"r\") as file:\n",
    "#     vocab = json.load(file)"
   ],
   "metadata": {
    "collapsed": false
   },
   "id": "88fa088540095cf2"
  },
  {
   "cell_type": "code",
   "execution_count": null,
   "outputs": [],
   "source": [
    "# text = encode(text, vocab)"
   ],
   "metadata": {
    "collapsed": false
   },
   "id": "f01564be24378bc"
  },
  {
   "cell_type": "code",
   "execution_count": null,
   "outputs": [],
   "source": [],
   "metadata": {
    "collapsed": false
   },
   "id": "8a1c17c6b8021be3"
  },
  {
   "cell_type": "markdown",
   "source": [
    "Save encoded"
   ],
   "metadata": {
    "collapsed": false
   },
   "id": "3d542b575ac59311"
  },
  {
   "cell_type": "code",
   "execution_count": null,
   "outputs": [],
   "source": [
    "# with open(\"/home/skyr/PycharmProjects/TransformerFromScratch/Datasets/Inheritance/encoded_big.pkl\", \"wb\") as file:\n",
    "#     pickle.dump(text, file)"
   ],
   "metadata": {
    "collapsed": false
   },
   "id": "e84f918f30eeba37"
  },
  {
   "cell_type": "markdown",
   "source": [
    "Load from pickle"
   ],
   "metadata": {
    "collapsed": false
   },
   "id": "892771ccdcc27e10"
  },
  {
   "cell_type": "code",
   "execution_count": null,
   "outputs": [],
   "source": [
    "with open(\"/home/skyr/PycharmProjects/TransformerFromScratch/Datasets/Inheritance/encoded_big.pkl\", \"rb\") as file:\n",
    "    text = pickle.load(file)"
   ],
   "metadata": {
    "collapsed": false
   },
   "id": "12eae9b8e5426526"
  },
  {
   "cell_type": "code",
   "execution_count": null,
   "outputs": [],
   "source": [
    "def nearest_lower_divisible(number, divisor):\n",
    "    return number - (number % divisor)\n"
   ],
   "metadata": {
    "collapsed": false
   },
   "id": "57ad6800e972d361"
  },
  {
   "cell_type": "code",
   "execution_count": null,
   "outputs": [],
   "source": [
    "import math\n",
    "def nearest_upper_divisible(number,divisor):\n",
    "    return number + abs(number - divisor * math.ceil(number / divisor))"
   ],
   "metadata": {
    "collapsed": false
   },
   "id": "2c5afbe69f2f92d2"
  },
  {
   "cell_type": "code",
   "execution_count": null,
   "outputs": [],
   "source": [
    "num_heads = 8\n",
    "embedd_dim = nearest_lower_divisible(450,num_heads)\n",
    "dropout_p = 0.1\n",
    "feed_forward_size = 1024\n",
    "num_layers = 8\n",
    "vocab_size = len(vocab)\n",
    "# vocab_size = 50257\n",
    "test_lr = 7e-5\n",
    "# test_lr = 0.00173770980841192\n",
    "block_size = 64\n",
    "# weight_decay = 0.0168053283371547\n",
    "weight_decay = 1e-5\n",
    "# weight_decay = 0.007548162081615722\n",
    "epochs = 20_000\n",
    "batch_size = 64\n",
    "eval_every = 200\n",
    "# {'num_heads': 8, 'factor': 4, 'dropout_p': 0.25068545758071636, 'feed_forward_size': 731, 'num_layers': 6, 'block_size': 97, 'lr': 0.00173770980841192, 'weight_decay': 0.0168053283371547}"
   ],
   "metadata": {
    "collapsed": false
   },
   "id": "df1e979f398a69d4"
  },
  {
   "cell_type": "code",
   "execution_count": null,
   "outputs": [],
   "source": [
    "embedd_dim"
   ],
   "metadata": {
    "collapsed": false
   },
   "id": "c2e0ac15acb5bae9"
  },
  {
   "cell_type": "code",
   "execution_count": null,
   "outputs": [],
   "source": [
    "wandb.init(\n",
    "    project=\"transformer_from_scratch_inheritance\",\n",
    "    config={\n",
    "        \"embedd_dim\": embedd_dim,\n",
    "        \"num_heads\": num_heads,\n",
    "        \"dropout_p\": dropout_p,\n",
    "        \"feed_forward_size\": feed_forward_size,\n",
    "        \"num_layers\": num_layers,\n",
    "        \"vocab_size\": vocab_size,\n",
    "        \"test_lr\": test_lr,\n",
    "        \"block_size\": block_size,\n",
    "        \"weight_decay\": weight_decay,\n",
    "        \"epochs\": epochs,\n",
    "        \"batch_size\": batch_size\n",
    "    }\n",
    "\n",
    ")"
   ],
   "metadata": {
    "collapsed": false
   },
   "id": "b0e49929855acffe"
  },
  {
   "cell_type": "code",
   "execution_count": null,
   "outputs": [],
   "source": [
    "# table = wandb.Table(columns=[\"predicted_text\", \"real_text\"])\n",
    "table = None"
   ],
   "metadata": {
    "collapsed": false
   },
   "id": "ae5d7cbc9731a0d6"
  },
  {
   "cell_type": "code",
   "execution_count": null,
   "outputs": [],
   "source": [
    "transformer = TransformerDecoder(embedd_dim, num_heads, dropout_p, feed_forward_size, num_layers, vocab_size,\n",
    "                                     block_size)\n",
    "trainer = TransformerTrainer(transformer, th.optim.AdamW, th.nn.CrossEntropyLoss, test_lr, block_size, weight_decay,vocab, table)"
   ],
   "metadata": {
    "collapsed": false
   },
   "id": "1a11d220705bf9a1"
  },
  {
   "cell_type": "markdown",
   "source": [
    "Load state dict"
   ],
   "metadata": {
    "collapsed": false
   },
   "id": "b4394743f9f99c2a"
  },
  {
   "cell_type": "code",
   "execution_count": null,
   "outputs": [],
   "source": [
    "# data = th.load(\"/home/skyr/PycharmProjects/TransformerFromScratch/model2.pth\")\n",
    "# transformer.load_state_dict(data[\"model_state_dict\"])\n",
    "# trainer.optimizer.load_state_dict(data[\"optimizer_state_dict\"])\n",
    "# trainer.optimizer "
   ],
   "metadata": {
    "collapsed": false
   },
   "id": "49aab6d9ed321412"
  },
  {
   "cell_type": "code",
   "execution_count": null,
   "outputs": [],
   "source": [
    "data = list(chain.from_iterable(text))"
   ],
   "metadata": {
    "collapsed": false
   },
   "id": "696b8a92bb8e0d1a"
  },
  {
   "cell_type": "code",
   "execution_count": null,
   "outputs": [],
   "source": [
    "test = data[:int(len(data) * 0.1)]\n",
    "val = data[int(len(data) * 0.1):int(len(data) * 0.2)]\n",
    "train = data[int(len(data) * 0.2):]\n",
    "train = th.tensor(train).long()\n",
    "# val = th.tensor(val).long()\n",
    "test = th.tensor(test).long()"
   ],
   "metadata": {
    "collapsed": false
   },
   "id": "690e98f64b9879c6"
  },
  {
   "cell_type": "code",
   "execution_count": null,
   "outputs": [],
   "source": [
    "# print(len(train))\n",
    "trainer.train(train, test, epochs, batch_size,eval_every=eval_every)"
   ],
   "metadata": {
    "collapsed": false
   },
   "id": "65d1cbb8c9d3d89"
  },
  {
   "cell_type": "code",
   "execution_count": null,
   "outputs": [],
   "source": [
    "th.save({\n",
    "        \"model_state_dict\": transformer.state_dict(),\n",
    "        \"optimizer_state_dict\": trainer.optimizer.state_dict(),\n",
    "    }, \"model3.pth\")\n",
    "# trainer.draw_losses()"
   ],
   "metadata": {
    "collapsed": false
   },
   "id": "b793284e4ee7b7b5"
  },
  {
   "cell_type": "code",
   "execution_count": null,
   "outputs": [],
   "source": [
    "input_ = encode([\"Eragon\"],vocab)\n",
    "input_ = th.tensor(input_).long().cuda().reshape(1, -1)\n",
    "outputs = decode(transformer.generate(input_, 108, block_size), vocab)\n",
    "print(''.join(outputs))"
   ],
   "metadata": {
    "collapsed": false
   },
   "id": "24490ff89961aba0"
  },
  {
   "cell_type": "code",
   "execution_count": null,
   "outputs": [],
   "source": [
    "# wandb.finish()"
   ],
   "metadata": {
    "collapsed": false
   },
   "id": "22d0fc074c2ae28c"
  },
  {
   "cell_type": "code",
   "execution_count": null,
   "outputs": [],
   "source": [],
   "metadata": {
    "collapsed": false
   },
   "id": "de92c4d40e21a8ac"
  }
 ],
 "metadata": {
  "kernelspec": {
   "display_name": "Python 3",
   "language": "python",
   "name": "python3"
  },
  "language_info": {
   "codemirror_mode": {
    "name": "ipython",
    "version": 2
   },
   "file_extension": ".py",
   "mimetype": "text/x-python",
   "name": "python",
   "nbconvert_exporter": "python",
   "pygments_lexer": "ipython2",
   "version": "2.7.6"
  }
 },
 "nbformat": 4,
 "nbformat_minor": 5
}
