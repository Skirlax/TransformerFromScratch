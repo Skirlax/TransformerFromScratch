{
 "cells": [
  {
   "cell_type": "code",
   "execution_count": 1,
   "outputs": [],
   "source": [
    "%load_ext autoreload\n",
    "%autoreload 2\n",
    "import torch as th\n",
    "from Datasets.TinyShakespeare.prepare import prepare_to_tokenize\n",
    "from Embeddings.token_embeddings import encode, decode\n",
    "from TransformerModel.transformer import TransformerDecoder, TransformerTrainer\n",
    "import json\n",
    "import numpy as np\n",
    "from itertools import chain\n",
    "from Embeddings.constants import EmbedConstants\n",
    "import random\n",
    "import wandb\n",
    "import pickle"
   ],
   "metadata": {
    "collapsed": false,
    "ExecuteTime": {
     "end_time": "2023-12-12T15:53:20.401091356Z",
     "start_time": "2023-12-12T15:53:19.240948541Z"
    }
   },
   "id": "6b080fe89da9800f"
  },
  {
   "cell_type": "code",
   "execution_count": 2,
   "outputs": [],
   "source": [
    "text = prepare_to_tokenize(\"/home/skyr/PycharmProjects/TransformerFromScratch/Datasets/Inheritance/big_eragon.txt\")\n",
    "with open(\"/home/skyr/PycharmProjects/TransformerFromScratch/Datasets/Inheritance/vocab_big.json\", \"r\") as file:\n",
    "    vocab = json.load(file)"
   ],
   "metadata": {
    "collapsed": false,
    "ExecuteTime": {
     "end_time": "2023-12-12T15:53:20.703600477Z",
     "start_time": "2023-12-12T15:53:20.444999528Z"
    }
   },
   "id": "a11d0d239028b943"
  },
  {
   "cell_type": "code",
   "execution_count": 3,
   "outputs": [],
   "source": [
    "# text = encode(text, vocab)"
   ],
   "metadata": {
    "collapsed": false,
    "ExecuteTime": {
     "end_time": "2023-12-12T15:53:20.712560872Z",
     "start_time": "2023-12-12T15:53:20.703859451Z"
    }
   },
   "id": "f01564be24378bc"
  },
  {
   "cell_type": "markdown",
   "source": [
    "Save encoded"
   ],
   "metadata": {
    "collapsed": false
   },
   "id": "3d542b575ac59311"
  },
  {
   "cell_type": "code",
   "execution_count": 4,
   "outputs": [],
   "source": [
    "# with open(\"/home/skyr/PycharmProjects/TransformerFromScratch/Datasets/Inheritance/encoded_big.pkl\", \"wb\") as file:\n",
    "#     pickle.dump(text, file)"
   ],
   "metadata": {
    "collapsed": false,
    "ExecuteTime": {
     "end_time": "2023-12-12T15:53:20.725749854Z",
     "start_time": "2023-12-12T15:53:20.713337864Z"
    }
   },
   "id": "e84f918f30eeba37"
  },
  {
   "cell_type": "markdown",
   "source": [
    "Load from pickle"
   ],
   "metadata": {
    "collapsed": false
   },
   "id": "892771ccdcc27e10"
  },
  {
   "cell_type": "code",
   "execution_count": 5,
   "outputs": [],
   "source": [
    "with open(\"/home/skyr/PycharmProjects/TransformerFromScratch/Datasets/Inheritance/encoded_big.pkl\", \"rb\") as file:\n",
    "    text = pickle.load(file)"
   ],
   "metadata": {
    "collapsed": false,
    "ExecuteTime": {
     "end_time": "2023-12-12T15:53:21.115572848Z",
     "start_time": "2023-12-12T15:53:20.722544282Z"
    }
   },
   "id": "12eae9b8e5426526"
  },
  {
   "cell_type": "code",
   "execution_count": 6,
   "outputs": [],
   "source": [
    "def nearest_divisible(number, divisor):\n",
    "    return number - (number % divisor)"
   ],
   "metadata": {
    "collapsed": false,
    "ExecuteTime": {
     "end_time": "2023-12-12T15:53:21.125347498Z",
     "start_time": "2023-12-12T15:53:21.116845142Z"
    }
   },
   "id": "57ad6800e972d361"
  },
  {
   "cell_type": "code",
   "execution_count": 7,
   "outputs": [],
   "source": [
    "num_heads = 7\n",
    "embedd_dim = nearest_divisible(450,num_heads)\n",
    "dropout_p = 0.3\n",
    "feed_forward_size = 916\n",
    "num_layers = 12\n",
    "vocab_size = len(vocab)\n",
    "# vocab_size = 50257\n",
    "# test_lr = 1e-5\n",
    "test_lr = 3e-4\n",
    "block_size = 108\n",
    "weight_decay = 0.01\n",
    "# weight_decay = 0.007548162081615722\n",
    "epochs = 1501\n",
    "batch_size = 64"
   ],
   "metadata": {
    "collapsed": false,
    "ExecuteTime": {
     "end_time": "2023-12-12T15:53:21.137476090Z",
     "start_time": "2023-12-12T15:53:21.125843710Z"
    }
   },
   "id": "df1e979f398a69d4"
  },
  {
   "cell_type": "code",
   "execution_count": 8,
   "outputs": [
    {
     "data": {
      "text/plain": "448"
     },
     "execution_count": 8,
     "metadata": {},
     "output_type": "execute_result"
    }
   ],
   "source": [
    "embedd_dim"
   ],
   "metadata": {
    "collapsed": false,
    "ExecuteTime": {
     "end_time": "2023-12-12T15:53:21.148332365Z",
     "start_time": "2023-12-12T15:53:21.135533934Z"
    }
   },
   "id": "c2e0ac15acb5bae9"
  },
  {
   "cell_type": "code",
   "execution_count": 9,
   "outputs": [
    {
     "name": "stderr",
     "output_type": "stream",
     "text": [
      "\u001B[34m\u001B[1mwandb\u001B[0m: Currently logged in as: \u001B[33mtobaleo\u001B[0m (\u001B[33mskyrr\u001B[0m). Use \u001B[1m`wandb login --relogin`\u001B[0m to force relogin\n"
     ]
    },
    {
     "data": {
      "text/plain": "<IPython.core.display.HTML object>",
      "text/html": "Tracking run with wandb version 0.16.1"
     },
     "metadata": {},
     "output_type": "display_data"
    },
    {
     "data": {
      "text/plain": "<IPython.core.display.HTML object>",
      "text/html": "Run data is saved locally in <code>/home/skyr/PycharmProjects/TransformerFromScratch/wandb/run-20231212_165322-cr9s1g1q</code>"
     },
     "metadata": {},
     "output_type": "display_data"
    },
    {
     "data": {
      "text/plain": "<IPython.core.display.HTML object>",
      "text/html": "Syncing run <strong><a href='https://wandb.ai/skyrr/transformer_from_scratch/runs/cr9s1g1q' target=\"_blank\">happy-sky-38</a></strong> to <a href='https://wandb.ai/skyrr/transformer_from_scratch' target=\"_blank\">Weights & Biases</a> (<a href='https://wandb.me/run' target=\"_blank\">docs</a>)<br/>"
     },
     "metadata": {},
     "output_type": "display_data"
    },
    {
     "data": {
      "text/plain": "<IPython.core.display.HTML object>",
      "text/html": " View project at <a href='https://wandb.ai/skyrr/transformer_from_scratch' target=\"_blank\">https://wandb.ai/skyrr/transformer_from_scratch</a>"
     },
     "metadata": {},
     "output_type": "display_data"
    },
    {
     "data": {
      "text/plain": "<IPython.core.display.HTML object>",
      "text/html": " View run at <a href='https://wandb.ai/skyrr/transformer_from_scratch/runs/cr9s1g1q' target=\"_blank\">https://wandb.ai/skyrr/transformer_from_scratch/runs/cr9s1g1q</a>"
     },
     "metadata": {},
     "output_type": "display_data"
    },
    {
     "data": {
      "text/html": "<button onClick=\"this.nextSibling.style.display='block';this.style.display='none';\">Display W&B run</button><iframe src='https://wandb.ai/skyrr/transformer_from_scratch/runs/cr9s1g1q?jupyter=true' style='border:none;width:100%;height:420px;display:none;'></iframe>",
      "text/plain": "<wandb.sdk.wandb_run.Run at 0x7f8dfb8c8cd0>"
     },
     "execution_count": 9,
     "metadata": {},
     "output_type": "execute_result"
    }
   ],
   "source": [
    "wandb.init(\n",
    "    project=\"transformer_from_scratch\",\n",
    "    config={\n",
    "        \"embedd_dim\": embedd_dim,\n",
    "        \"num_heads\": num_heads,\n",
    "        \"dropout_p\": dropout_p,\n",
    "        \"feed_forward_size\": feed_forward_size,\n",
    "        \"num_layers\": num_layers,\n",
    "        \"vocab_size\": vocab_size,\n",
    "        \"test_lr\": test_lr,\n",
    "        \"block_size\": block_size,\n",
    "        \"weight_decay\": weight_decay,\n",
    "        \"epochs\": epochs,\n",
    "        \"batch_size\": batch_size\n",
    "    }\n",
    "\n",
    ")"
   ],
   "metadata": {
    "collapsed": false,
    "ExecuteTime": {
     "end_time": "2023-12-12T15:53:25.027760945Z",
     "start_time": "2023-12-12T15:53:21.148415476Z"
    }
   },
   "id": "b0e49929855acffe"
  },
  {
   "cell_type": "code",
   "execution_count": 10,
   "outputs": [],
   "source": [
    "table = wandb.Table(columns=[\"predicted_text\", \"real_text\"])"
   ],
   "metadata": {
    "collapsed": false,
    "ExecuteTime": {
     "end_time": "2023-12-12T15:53:25.049468847Z",
     "start_time": "2023-12-12T15:53:25.028395155Z"
    }
   },
   "id": "ae5d7cbc9731a0d6"
  },
  {
   "cell_type": "code",
   "execution_count": 11,
   "outputs": [],
   "source": [
    "transformer = TransformerDecoder(embedd_dim, num_heads, dropout_p, feed_forward_size, num_layers, vocab_size,\n",
    "                                     block_size)\n",
    "trainer = TransformerTrainer(transformer, th.optim.AdamW, th.nn.CrossEntropyLoss, test_lr, block_size, weight_decay,vocab, table)"
   ],
   "metadata": {
    "collapsed": false,
    "ExecuteTime": {
     "end_time": "2023-12-12T15:53:25.236815419Z",
     "start_time": "2023-12-12T15:53:25.038966595Z"
    }
   },
   "id": "1a11d220705bf9a1"
  },
  {
   "cell_type": "code",
   "execution_count": 12,
   "outputs": [],
   "source": [
    "data = list(chain.from_iterable(text))"
   ],
   "metadata": {
    "collapsed": false,
    "ExecuteTime": {
     "end_time": "2023-12-12T15:53:25.359316835Z",
     "start_time": "2023-12-12T15:53:25.237133138Z"
    }
   },
   "id": "696b8a92bb8e0d1a"
  },
  {
   "cell_type": "code",
   "execution_count": 13,
   "outputs": [],
   "source": [
    "test = data[:int(len(data) * 0.1)]\n",
    "val = data[int(len(data) * 0.1):int(len(data) * 0.2)]\n",
    "train = data[int(len(data) * 0.2):]\n",
    "train = th.tensor(train).long()\n",
    "# val = th.tensor(val).long()\n",
    "test = th.tensor(test).long()"
   ],
   "metadata": {
    "collapsed": false,
    "ExecuteTime": {
     "end_time": "2023-12-12T15:53:26.940229969Z",
     "start_time": "2023-12-12T15:53:25.359682628Z"
    }
   },
   "id": "690e98f64b9879c6"
  },
  {
   "cell_type": "code",
   "execution_count": 14,
   "outputs": [
    {
     "name": "stderr",
     "output_type": "stream",
     "text": [
      "Epoch: 0 Loss: 5.752849578857422:   0%|          | 0/1501 [00:00<?, ?it/s]\n",
      "  0%|          | 0/50 [00:00<?, ?it/s]\u001B[A\n",
      "Test Epoch: 0 Loss: 5.3750481605529785:   0%|          | 0/50 [00:00<?, ?it/s]\u001B[A\n",
      "Test Epoch: 0 Loss: 5.3750481605529785:   2%|▏         | 1/50 [00:00<00:04,  9.97it/s]\u001B[A\n",
      "Test Epoch: 1 Loss: 5.352026462554932:   2%|▏         | 1/50 [00:00<00:04,  9.97it/s] \u001B[A\n",
      "Test Epoch: 2 Loss: 5.351324558258057:   2%|▏         | 1/50 [00:00<00:04,  9.97it/s]\u001B[A\n",
      "Test Epoch: 2 Loss: 5.351324558258057:   6%|▌         | 3/50 [00:00<00:04, 10.51it/s]\u001B[A\n",
      "Test Epoch: 3 Loss: 5.370364189147949:   6%|▌         | 3/50 [00:00<00:04, 10.51it/s]\u001B[A\n",
      "Test Epoch: 4 Loss: 5.333694934844971:   6%|▌         | 3/50 [00:00<00:04, 10.51it/s]\u001B[A\n",
      "Test Epoch: 4 Loss: 5.333694934844971:  10%|█         | 5/50 [00:00<00:04, 10.66it/s]\u001B[A\n",
      "Test Epoch: 5 Loss: 5.342303276062012:  10%|█         | 5/50 [00:00<00:04, 10.66it/s]\u001B[A\n",
      "Test Epoch: 6 Loss: 5.372280120849609:  10%|█         | 5/50 [00:00<00:04, 10.66it/s]\u001B[A\n",
      "Test Epoch: 6 Loss: 5.372280120849609:  14%|█▍        | 7/50 [00:00<00:04, 10.71it/s]\u001B[A\n",
      "Test Epoch: 7 Loss: 5.38773775100708:  14%|█▍        | 7/50 [00:00<00:04, 10.71it/s] \u001B[A\n",
      "Test Epoch: 8 Loss: 5.344563961029053:  14%|█▍        | 7/50 [00:00<00:04, 10.71it/s]\u001B[A\n",
      "Test Epoch: 8 Loss: 5.344563961029053:  18%|█▊        | 9/50 [00:00<00:03, 10.82it/s]\u001B[A\n",
      "Test Epoch: 9 Loss: 5.34813928604126:  18%|█▊        | 9/50 [00:00<00:03, 10.82it/s] \u001B[A\n",
      "Test Epoch: 10 Loss: 5.371578693389893:  18%|█▊        | 9/50 [00:01<00:03, 10.82it/s]\u001B[A\n",
      "Test Epoch: 10 Loss: 5.371578693389893:  22%|██▏       | 11/50 [00:01<00:03, 10.87it/s]\u001B[A\n",
      "Test Epoch: 11 Loss: 5.342029571533203:  22%|██▏       | 11/50 [00:01<00:03, 10.87it/s]\u001B[A\n",
      "Test Epoch: 12 Loss: 5.37986946105957:  22%|██▏       | 11/50 [00:01<00:03, 10.87it/s] \u001B[A\n",
      "Test Epoch: 12 Loss: 5.37986946105957:  26%|██▌       | 13/50 [00:01<00:03, 10.89it/s]\u001B[A\n",
      "Test Epoch: 13 Loss: 5.409131050109863:  26%|██▌       | 13/50 [00:01<00:03, 10.89it/s]\u001B[A\n",
      "Test Epoch: 14 Loss: 5.350815773010254:  26%|██▌       | 13/50 [00:01<00:03, 10.89it/s]\u001B[A\n",
      "Test Epoch: 14 Loss: 5.350815773010254:  30%|███       | 15/50 [00:01<00:03, 10.95it/s]\u001B[A\n",
      "Test Epoch: 15 Loss: 5.298436641693115:  30%|███       | 15/50 [00:01<00:03, 10.95it/s]\u001B[A\n",
      "Test Epoch: 16 Loss: 5.342411041259766:  30%|███       | 15/50 [00:01<00:03, 10.95it/s]\u001B[A\n",
      "Test Epoch: 16 Loss: 5.342411041259766:  34%|███▍      | 17/50 [00:01<00:03, 10.97it/s]\u001B[A\n",
      "Test Epoch: 17 Loss: 5.350589275360107:  34%|███▍      | 17/50 [00:01<00:03, 10.97it/s]\u001B[A\n",
      "Test Epoch: 18 Loss: 5.425937175750732:  34%|███▍      | 17/50 [00:01<00:03, 10.97it/s]\u001B[A\n",
      "Test Epoch: 18 Loss: 5.425937175750732:  38%|███▊      | 19/50 [00:01<00:02, 11.00it/s]\u001B[A\n",
      "Test Epoch: 19 Loss: 5.363192558288574:  38%|███▊      | 19/50 [00:01<00:02, 11.00it/s]\u001B[A\n",
      "Test Epoch: 20 Loss: 5.379131317138672:  38%|███▊      | 19/50 [00:01<00:02, 11.00it/s]\u001B[A\n",
      "Test Epoch: 20 Loss: 5.379131317138672:  42%|████▏     | 21/50 [00:01<00:02, 10.97it/s]\u001B[A\n",
      "Test Epoch: 21 Loss: 5.336700439453125:  42%|████▏     | 21/50 [00:02<00:02, 10.97it/s]\u001B[A\n",
      "Test Epoch: 22 Loss: 5.370349407196045:  42%|████▏     | 21/50 [00:02<00:02, 10.97it/s]\u001B[A\n",
      "Test Epoch: 22 Loss: 5.370349407196045:  46%|████▌     | 23/50 [00:02<00:02, 10.97it/s]\u001B[A\n",
      "Test Epoch: 23 Loss: 5.400742530822754:  46%|████▌     | 23/50 [00:02<00:02, 10.97it/s]\u001B[A\n",
      "Test Epoch: 24 Loss: 5.362921714782715:  46%|████▌     | 23/50 [00:02<00:02, 10.97it/s]\u001B[A\n",
      "Test Epoch: 24 Loss: 5.362921714782715:  50%|█████     | 25/50 [00:02<00:02, 11.00it/s]\u001B[A\n",
      "Test Epoch: 25 Loss: 5.3463287353515625:  50%|█████     | 25/50 [00:02<00:02, 11.00it/s]\u001B[A\n",
      "Test Epoch: 26 Loss: 5.370828151702881:  50%|█████     | 25/50 [00:02<00:02, 11.00it/s] \u001B[A\n",
      "Test Epoch: 26 Loss: 5.370828151702881:  54%|█████▍    | 27/50 [00:02<00:02, 10.99it/s]\u001B[A\n",
      "Test Epoch: 27 Loss: 5.350513458251953:  54%|█████▍    | 27/50 [00:02<00:02, 10.99it/s]\u001B[A\n",
      "Test Epoch: 28 Loss: 5.392990589141846:  54%|█████▍    | 27/50 [00:02<00:02, 10.99it/s]\u001B[A\n",
      "Test Epoch: 28 Loss: 5.392990589141846:  58%|█████▊    | 29/50 [00:02<00:01, 10.97it/s]\u001B[A\n",
      "Test Epoch: 29 Loss: 5.37857723236084:  58%|█████▊    | 29/50 [00:02<00:01, 10.97it/s] \u001B[A\n",
      "Test Epoch: 30 Loss: 5.3726019859313965:  58%|█████▊    | 29/50 [00:02<00:01, 10.97it/s]\u001B[A\n",
      "Test Epoch: 30 Loss: 5.3726019859313965:  62%|██████▏   | 31/50 [00:02<00:01, 10.97it/s]\u001B[A\n",
      "Test Epoch: 31 Loss: 5.3998589515686035:  62%|██████▏   | 31/50 [00:02<00:01, 10.97it/s]\u001B[A\n",
      "Test Epoch: 32 Loss: 5.358143329620361:  62%|██████▏   | 31/50 [00:03<00:01, 10.97it/s] \u001B[A\n",
      "Test Epoch: 32 Loss: 5.358143329620361:  66%|██████▌   | 33/50 [00:03<00:01, 10.96it/s]\u001B[A\n",
      "Test Epoch: 33 Loss: 5.34825325012207:  66%|██████▌   | 33/50 [00:03<00:01, 10.96it/s] \u001B[A\n",
      "Test Epoch: 34 Loss: 5.34326696395874:  66%|██████▌   | 33/50 [00:03<00:01, 10.96it/s]\u001B[A\n",
      "Test Epoch: 34 Loss: 5.34326696395874:  70%|███████   | 35/50 [00:03<00:01, 10.89it/s]\u001B[A\n",
      "Test Epoch: 35 Loss: 5.364038944244385:  70%|███████   | 35/50 [00:03<00:01, 10.89it/s]\u001B[A\n",
      "Test Epoch: 36 Loss: 5.365576267242432:  70%|███████   | 35/50 [00:03<00:01, 10.89it/s]\u001B[A\n",
      "Test Epoch: 36 Loss: 5.365576267242432:  74%|███████▍  | 37/50 [00:03<00:01, 10.89it/s]\u001B[A\n",
      "Test Epoch: 37 Loss: 5.374547481536865:  74%|███████▍  | 37/50 [00:03<00:01, 10.89it/s]\u001B[A\n",
      "Test Epoch: 38 Loss: 5.370273590087891:  74%|███████▍  | 37/50 [00:03<00:01, 10.89it/s]\u001B[A\n",
      "Test Epoch: 38 Loss: 5.370273590087891:  78%|███████▊  | 39/50 [00:03<00:01, 10.92it/s]\u001B[A\n",
      "Test Epoch: 39 Loss: 5.375967025756836:  78%|███████▊  | 39/50 [00:03<00:01, 10.92it/s]\u001B[A\n",
      "Test Epoch: 40 Loss: 5.366144180297852:  78%|███████▊  | 39/50 [00:03<00:01, 10.92it/s]\u001B[A\n",
      "Test Epoch: 40 Loss: 5.366144180297852:  82%|████████▏ | 41/50 [00:03<00:00, 10.83it/s]\u001B[A\n",
      "Test Epoch: 41 Loss: 5.370487689971924:  82%|████████▏ | 41/50 [00:03<00:00, 10.83it/s]\u001B[A\n",
      "Test Epoch: 42 Loss: 5.327187538146973:  82%|████████▏ | 41/50 [00:03<00:00, 10.83it/s]\u001B[A\n",
      "Test Epoch: 42 Loss: 5.327187538146973:  86%|████████▌ | 43/50 [00:03<00:00, 10.79it/s]\u001B[A\n",
      "Test Epoch: 43 Loss: 5.3406596183776855:  86%|████████▌ | 43/50 [00:04<00:00, 10.79it/s]\u001B[A\n",
      "Test Epoch: 44 Loss: 5.386425971984863:  86%|████████▌ | 43/50 [00:04<00:00, 10.79it/s] \u001B[A\n",
      "Test Epoch: 44 Loss: 5.386425971984863:  90%|█████████ | 45/50 [00:04<00:00, 10.75it/s]\u001B[A\n",
      "Test Epoch: 45 Loss: 5.359521865844727:  90%|█████████ | 45/50 [00:04<00:00, 10.75it/s]\u001B[A\n",
      "Test Epoch: 46 Loss: 5.3873467445373535:  90%|█████████ | 45/50 [00:04<00:00, 10.75it/s]\u001B[A\n",
      "Test Epoch: 46 Loss: 5.3873467445373535:  94%|█████████▍| 47/50 [00:04<00:00, 10.70it/s]\u001B[A\n",
      "Test Epoch: 47 Loss: 5.3848042488098145:  94%|█████████▍| 47/50 [00:04<00:00, 10.70it/s]\u001B[A\n",
      "Test Epoch: 48 Loss: 5.348217964172363:  94%|█████████▍| 47/50 [00:04<00:00, 10.70it/s] \u001B[A\n",
      "Test Epoch: 48 Loss: 5.348217964172363:  98%|█████████▊| 49/50 [00:04<00:00, 10.66it/s]\u001B[A\n",
      "Test Epoch: 49 Loss: 5.372274398803711: 100%|██████████| 50/50 [00:04<00:00, 10.84it/s]\u001B[A\n",
      "Epoch: 500 Loss: 4.17796516418457:  33%|███▎      | 500/1501 [02:01<03:52,  4.31it/s]  \n",
      "  0%|          | 0/50 [00:00<?, ?it/s]\u001B[A\n",
      "Test Epoch: 0 Loss: 4.193044662475586:   0%|          | 0/50 [00:00<?, ?it/s]\u001B[A\n",
      "Test Epoch: 1 Loss: 4.1578850746154785:   0%|          | 0/50 [00:00<?, ?it/s]\u001B[A\n",
      "Test Epoch: 1 Loss: 4.1578850746154785:   4%|▍         | 2/50 [00:00<00:04, 10.82it/s]\u001B[A\n",
      "Test Epoch: 2 Loss: 4.170554161071777:   4%|▍         | 2/50 [00:00<00:04, 10.82it/s] \u001B[A\n",
      "Test Epoch: 3 Loss: 4.200291633605957:   4%|▍         | 2/50 [00:00<00:04, 10.82it/s]\u001B[A\n",
      "Test Epoch: 3 Loss: 4.200291633605957:   8%|▊         | 4/50 [00:00<00:04, 10.90it/s]\u001B[A\n",
      "Test Epoch: 4 Loss: 4.187361717224121:   8%|▊         | 4/50 [00:00<00:04, 10.90it/s]\u001B[A\n",
      "Test Epoch: 5 Loss: 4.195944786071777:   8%|▊         | 4/50 [00:00<00:04, 10.90it/s]\u001B[A\n",
      "Test Epoch: 5 Loss: 4.195944786071777:  12%|█▏        | 6/50 [00:00<00:04, 10.96it/s]\u001B[A\n",
      "Test Epoch: 6 Loss: 4.172796249389648:  12%|█▏        | 6/50 [00:00<00:04, 10.96it/s]\u001B[A\n",
      "Test Epoch: 7 Loss: 4.1868367195129395:  12%|█▏        | 6/50 [00:00<00:04, 10.96it/s]\u001B[A\n",
      "Test Epoch: 7 Loss: 4.1868367195129395:  16%|█▌        | 8/50 [00:00<00:03, 11.01it/s]\u001B[A\n",
      "Test Epoch: 8 Loss: 4.173672199249268:  16%|█▌        | 8/50 [00:00<00:03, 11.01it/s] \u001B[A\n",
      "Test Epoch: 9 Loss: 4.190402507781982:  16%|█▌        | 8/50 [00:00<00:03, 11.01it/s]\u001B[A\n",
      "Test Epoch: 9 Loss: 4.190402507781982:  20%|██        | 10/50 [00:00<00:03, 11.03it/s]\u001B[A\n",
      "Test Epoch: 10 Loss: 4.1847052574157715:  20%|██        | 10/50 [00:00<00:03, 11.03it/s]\u001B[A\n",
      "Test Epoch: 11 Loss: 4.157151222229004:  20%|██        | 10/50 [00:01<00:03, 11.03it/s] \u001B[A\n",
      "Test Epoch: 11 Loss: 4.157151222229004:  24%|██▍       | 12/50 [00:01<00:03, 11.04it/s]\u001B[A\n",
      "Test Epoch: 12 Loss: 4.16793155670166:  24%|██▍       | 12/50 [00:01<00:03, 11.04it/s] \u001B[A\n",
      "Test Epoch: 13 Loss: 4.205040454864502:  24%|██▍       | 12/50 [00:01<00:03, 11.04it/s]\u001B[A\n",
      "Test Epoch: 13 Loss: 4.205040454864502:  28%|██▊       | 14/50 [00:01<00:03, 10.95it/s]\u001B[A\n",
      "Test Epoch: 14 Loss: 4.179325103759766:  28%|██▊       | 14/50 [00:01<00:03, 10.95it/s]\u001B[A\n",
      "Test Epoch: 15 Loss: 4.197826862335205:  28%|██▊       | 14/50 [00:01<00:03, 10.95it/s]\u001B[A\n",
      "Test Epoch: 15 Loss: 4.197826862335205:  32%|███▏      | 16/50 [00:01<00:03, 10.96it/s]\u001B[A\n",
      "Test Epoch: 16 Loss: 4.16041374206543:  32%|███▏      | 16/50 [00:01<00:03, 10.96it/s] \u001B[A\n",
      "Test Epoch: 17 Loss: 4.185258865356445:  32%|███▏      | 16/50 [00:01<00:03, 10.96it/s]\u001B[A\n",
      "Test Epoch: 17 Loss: 4.185258865356445:  36%|███▌      | 18/50 [00:01<00:03, 10.59it/s]\u001B[A\n",
      "Test Epoch: 18 Loss: 4.163792610168457:  36%|███▌      | 18/50 [00:01<00:03, 10.59it/s]\u001B[A\n",
      "Test Epoch: 19 Loss: 4.178966522216797:  36%|███▌      | 18/50 [00:01<00:03, 10.59it/s]\u001B[A\n",
      "Test Epoch: 19 Loss: 4.178966522216797:  40%|████      | 20/50 [00:01<00:02, 10.51it/s]\u001B[A\n",
      "Test Epoch: 20 Loss: 4.183957576751709:  40%|████      | 20/50 [00:01<00:02, 10.51it/s]\u001B[A\n",
      "Test Epoch: 21 Loss: 4.188894271850586:  40%|████      | 20/50 [00:02<00:02, 10.51it/s]\u001B[A\n",
      "Test Epoch: 21 Loss: 4.188894271850586:  44%|████▍     | 22/50 [00:02<00:02, 10.65it/s]\u001B[A\n",
      "Test Epoch: 22 Loss: 4.2339606285095215:  44%|████▍     | 22/50 [00:02<00:02, 10.65it/s]\u001B[A\n",
      "Test Epoch: 23 Loss: 4.197131156921387:  44%|████▍     | 22/50 [00:02<00:02, 10.65it/s] \u001B[A\n",
      "Test Epoch: 23 Loss: 4.197131156921387:  48%|████▊     | 24/50 [00:02<00:02, 10.74it/s]\u001B[A\n",
      "Test Epoch: 24 Loss: 4.188233852386475:  48%|████▊     | 24/50 [00:02<00:02, 10.74it/s]\u001B[A\n",
      "Test Epoch: 25 Loss: 4.188531875610352:  48%|████▊     | 24/50 [00:02<00:02, 10.74it/s]\u001B[A\n",
      "Test Epoch: 25 Loss: 4.188531875610352:  52%|█████▏    | 26/50 [00:02<00:02, 10.79it/s]\u001B[A\n",
      "Test Epoch: 26 Loss: 4.1829400062561035:  52%|█████▏    | 26/50 [00:02<00:02, 10.79it/s]\u001B[A\n",
      "Test Epoch: 27 Loss: 4.170230388641357:  52%|█████▏    | 26/50 [00:02<00:02, 10.79it/s] \u001B[A\n",
      "Test Epoch: 27 Loss: 4.170230388641357:  56%|█████▌    | 28/50 [00:02<00:02, 10.75it/s]\u001B[A\n",
      "Test Epoch: 28 Loss: 4.184933185577393:  56%|█████▌    | 28/50 [00:02<00:02, 10.75it/s]\u001B[A\n",
      "Test Epoch: 29 Loss: 4.185094833374023:  56%|█████▌    | 28/50 [00:02<00:02, 10.75it/s]\u001B[A\n",
      "Test Epoch: 29 Loss: 4.185094833374023:  60%|██████    | 30/50 [00:02<00:01, 10.75it/s]\u001B[A\n",
      "Test Epoch: 30 Loss: 4.174494743347168:  60%|██████    | 30/50 [00:02<00:01, 10.75it/s]\u001B[A\n",
      "Test Epoch: 31 Loss: 4.200165748596191:  60%|██████    | 30/50 [00:02<00:01, 10.75it/s]\u001B[A\n",
      "Test Epoch: 31 Loss: 4.200165748596191:  64%|██████▍   | 32/50 [00:02<00:01, 10.81it/s]\u001B[A\n",
      "Test Epoch: 32 Loss: 4.194559097290039:  64%|██████▍   | 32/50 [00:03<00:01, 10.81it/s]\u001B[A\n",
      "Test Epoch: 33 Loss: 4.1884589195251465:  64%|██████▍   | 32/50 [00:03<00:01, 10.81it/s]\u001B[A\n",
      "Test Epoch: 33 Loss: 4.1884589195251465:  68%|██████▊   | 34/50 [00:03<00:01, 10.88it/s]\u001B[A\n",
      "Test Epoch: 34 Loss: 4.201441287994385:  68%|██████▊   | 34/50 [00:03<00:01, 10.88it/s] \u001B[A\n",
      "Test Epoch: 35 Loss: 4.191084384918213:  68%|██████▊   | 34/50 [00:03<00:01, 10.88it/s]\u001B[A\n",
      "Test Epoch: 35 Loss: 4.191084384918213:  72%|███████▏  | 36/50 [00:03<00:01, 10.89it/s]\u001B[A\n",
      "Test Epoch: 36 Loss: 4.194316387176514:  72%|███████▏  | 36/50 [00:03<00:01, 10.89it/s]\u001B[A\n",
      "Test Epoch: 37 Loss: 4.178280353546143:  72%|███████▏  | 36/50 [00:03<00:01, 10.89it/s]\u001B[A\n",
      "Test Epoch: 37 Loss: 4.178280353546143:  76%|███████▌  | 38/50 [00:03<00:01, 10.90it/s]\u001B[A\n",
      "Test Epoch: 38 Loss: 4.201479434967041:  76%|███████▌  | 38/50 [00:03<00:01, 10.90it/s]\u001B[A\n",
      "Test Epoch: 39 Loss: 4.173288345336914:  76%|███████▌  | 38/50 [00:03<00:01, 10.90it/s]\u001B[A\n",
      "Test Epoch: 39 Loss: 4.173288345336914:  80%|████████  | 40/50 [00:03<00:00, 10.94it/s]\u001B[A\n",
      "Test Epoch: 40 Loss: 4.189574718475342:  80%|████████  | 40/50 [00:03<00:00, 10.94it/s]\u001B[A\n",
      "Test Epoch: 41 Loss: 4.172675609588623:  80%|████████  | 40/50 [00:03<00:00, 10.94it/s]\u001B[A\n",
      "Test Epoch: 41 Loss: 4.172675609588623:  84%|████████▍ | 42/50 [00:03<00:00, 10.95it/s]\u001B[A\n",
      "Test Epoch: 42 Loss: 4.197068691253662:  84%|████████▍ | 42/50 [00:03<00:00, 10.95it/s]\u001B[A\n",
      "Test Epoch: 43 Loss: 4.167705535888672:  84%|████████▍ | 42/50 [00:04<00:00, 10.95it/s]\u001B[A\n",
      "Test Epoch: 43 Loss: 4.167705535888672:  88%|████████▊ | 44/50 [00:04<00:00, 10.92it/s]\u001B[A\n",
      "Test Epoch: 44 Loss: 4.191254615783691:  88%|████████▊ | 44/50 [00:04<00:00, 10.92it/s]\u001B[A\n",
      "Test Epoch: 45 Loss: 4.180089950561523:  88%|████████▊ | 44/50 [00:04<00:00, 10.92it/s]\u001B[A\n",
      "Test Epoch: 45 Loss: 4.180089950561523:  92%|█████████▏| 46/50 [00:04<00:00, 10.92it/s]\u001B[A\n",
      "Test Epoch: 46 Loss: 4.178462982177734:  92%|█████████▏| 46/50 [00:04<00:00, 10.92it/s]\u001B[A\n",
      "Test Epoch: 47 Loss: 4.192885875701904:  92%|█████████▏| 46/50 [00:04<00:00, 10.92it/s]\u001B[A\n",
      "Test Epoch: 47 Loss: 4.192885875701904:  96%|█████████▌| 48/50 [00:04<00:00, 10.92it/s]\u001B[A\n",
      "Test Epoch: 48 Loss: 4.161640167236328:  96%|█████████▌| 48/50 [00:04<00:00, 10.92it/s]\u001B[A\n",
      "Test Epoch: 49 Loss: 4.163393020629883:  96%|█████████▌| 48/50 [00:04<00:00, 10.92it/s]\u001B[A\n",
      "Test Epoch: 49 Loss: 4.163393020629883: 100%|██████████| 50/50 [00:04<00:00, 10.86it/s]\u001B[A\n",
      "Epoch: 1000 Loss: 4.138050556182861:  67%|██████▋   | 1000/1501 [04:02<01:56,  4.30it/s]\n",
      "  0%|          | 0/50 [00:00<?, ?it/s]\u001B[A\n",
      "Test Epoch: 0 Loss: 4.18811559677124:   0%|          | 0/50 [00:00<?, ?it/s]\u001B[A\n",
      "Test Epoch: 1 Loss: 4.18572473526001:   0%|          | 0/50 [00:00<?, ?it/s]\u001B[A\n",
      "Test Epoch: 1 Loss: 4.18572473526001:   4%|▍         | 2/50 [00:00<00:04, 11.07it/s]\u001B[A\n",
      "Test Epoch: 2 Loss: 4.176665782928467:   4%|▍         | 2/50 [00:00<00:04, 11.07it/s]\u001B[A\n",
      "Test Epoch: 3 Loss: 4.1914191246032715:   4%|▍         | 2/50 [00:00<00:04, 11.07it/s]\u001B[A\n",
      "Test Epoch: 3 Loss: 4.1914191246032715:   8%|▊         | 4/50 [00:00<00:04, 11.03it/s]\u001B[A\n",
      "Test Epoch: 4 Loss: 4.1875996589660645:   8%|▊         | 4/50 [00:00<00:04, 11.03it/s]\u001B[A\n",
      "Test Epoch: 5 Loss: 4.1931915283203125:   8%|▊         | 4/50 [00:00<00:04, 11.03it/s]\u001B[A\n",
      "Test Epoch: 5 Loss: 4.1931915283203125:  12%|█▏        | 6/50 [00:00<00:04, 10.93it/s]\u001B[A\n",
      "Test Epoch: 6 Loss: 4.176656246185303:  12%|█▏        | 6/50 [00:00<00:04, 10.93it/s] \u001B[A\n",
      "Test Epoch: 7 Loss: 4.146860599517822:  12%|█▏        | 6/50 [00:00<00:04, 10.93it/s]\u001B[A\n",
      "Test Epoch: 7 Loss: 4.146860599517822:  16%|█▌        | 8/50 [00:00<00:03, 10.96it/s]\u001B[A\n",
      "Test Epoch: 8 Loss: 4.17041540145874:  16%|█▌        | 8/50 [00:00<00:03, 10.96it/s] \u001B[A\n",
      "Test Epoch: 9 Loss: 4.187965393066406:  16%|█▌        | 8/50 [00:00<00:03, 10.96it/s]\u001B[A\n",
      "Test Epoch: 9 Loss: 4.187965393066406:  20%|██        | 10/50 [00:00<00:03, 11.00it/s]\u001B[A\n",
      "Test Epoch: 10 Loss: 4.1605048179626465:  20%|██        | 10/50 [00:00<00:03, 11.00it/s]\u001B[A\n",
      "Test Epoch: 11 Loss: 4.17521333694458:  20%|██        | 10/50 [00:01<00:03, 11.00it/s]  \u001B[A\n",
      "Test Epoch: 11 Loss: 4.17521333694458:  24%|██▍       | 12/50 [00:01<00:03, 11.03it/s]\u001B[A\n",
      "Test Epoch: 12 Loss: 4.191242694854736:  24%|██▍       | 12/50 [00:01<00:03, 11.03it/s]\u001B[A\n",
      "Test Epoch: 13 Loss: 4.208467483520508:  24%|██▍       | 12/50 [00:01<00:03, 11.03it/s]\u001B[A\n",
      "Test Epoch: 13 Loss: 4.208467483520508:  28%|██▊       | 14/50 [00:01<00:03, 11.01it/s]\u001B[A\n",
      "Test Epoch: 14 Loss: 4.182271957397461:  28%|██▊       | 14/50 [00:01<00:03, 11.01it/s]\u001B[A\n",
      "Test Epoch: 15 Loss: 4.189899921417236:  28%|██▊       | 14/50 [00:01<00:03, 11.01it/s]\u001B[A\n",
      "Test Epoch: 15 Loss: 4.189899921417236:  32%|███▏      | 16/50 [00:01<00:03, 11.02it/s]\u001B[A\n",
      "Test Epoch: 16 Loss: 4.185759544372559:  32%|███▏      | 16/50 [00:01<00:03, 11.02it/s]\u001B[A\n",
      "Test Epoch: 17 Loss: 4.202176570892334:  32%|███▏      | 16/50 [00:01<00:03, 11.02it/s]\u001B[A\n",
      "Test Epoch: 17 Loss: 4.202176570892334:  36%|███▌      | 18/50 [00:01<00:02, 10.99it/s]\u001B[A\n",
      "Test Epoch: 18 Loss: 4.195015907287598:  36%|███▌      | 18/50 [00:01<00:02, 10.99it/s]\u001B[A\n",
      "Test Epoch: 19 Loss: 4.2018561363220215:  36%|███▌      | 18/50 [00:01<00:02, 10.99it/s]\u001B[A\n",
      "Test Epoch: 19 Loss: 4.2018561363220215:  40%|████      | 20/50 [00:01<00:02, 10.99it/s]\u001B[A\n",
      "Test Epoch: 20 Loss: 4.182500839233398:  40%|████      | 20/50 [00:01<00:02, 10.99it/s] \u001B[A\n",
      "Test Epoch: 21 Loss: 4.176357269287109:  40%|████      | 20/50 [00:02<00:02, 10.99it/s]\u001B[A\n",
      "Test Epoch: 21 Loss: 4.176357269287109:  44%|████▍     | 22/50 [00:02<00:02, 10.99it/s]\u001B[A\n",
      "Test Epoch: 22 Loss: 4.16450834274292:  44%|████▍     | 22/50 [00:02<00:02, 10.99it/s] \u001B[A\n",
      "Test Epoch: 23 Loss: 4.215216159820557:  44%|████▍     | 22/50 [00:02<00:02, 10.99it/s]\u001B[A\n",
      "Test Epoch: 23 Loss: 4.215216159820557:  48%|████▊     | 24/50 [00:02<00:02, 11.01it/s]\u001B[A\n",
      "Test Epoch: 24 Loss: 4.184225082397461:  48%|████▊     | 24/50 [00:02<00:02, 11.01it/s]\u001B[A\n",
      "Test Epoch: 25 Loss: 4.187075614929199:  48%|████▊     | 24/50 [00:02<00:02, 11.01it/s]\u001B[A\n",
      "Test Epoch: 25 Loss: 4.187075614929199:  52%|█████▏    | 26/50 [00:02<00:02, 11.02it/s]\u001B[A\n",
      "Test Epoch: 26 Loss: 4.179140090942383:  52%|█████▏    | 26/50 [00:02<00:02, 11.02it/s]\u001B[A\n",
      "Test Epoch: 27 Loss: 4.208893299102783:  52%|█████▏    | 26/50 [00:02<00:02, 11.02it/s]\u001B[A\n",
      "Test Epoch: 27 Loss: 4.208893299102783:  56%|█████▌    | 28/50 [00:02<00:02, 11.00it/s]\u001B[A\n",
      "Test Epoch: 28 Loss: 4.170979976654053:  56%|█████▌    | 28/50 [00:02<00:02, 11.00it/s]\u001B[A\n",
      "Test Epoch: 29 Loss: 4.191422462463379:  56%|█████▌    | 28/50 [00:02<00:02, 11.00it/s]\u001B[A\n",
      "Test Epoch: 29 Loss: 4.191422462463379:  60%|██████    | 30/50 [00:02<00:01, 10.96it/s]\u001B[A\n",
      "Test Epoch: 30 Loss: 4.204383373260498:  60%|██████    | 30/50 [00:02<00:01, 10.96it/s]\u001B[A\n",
      "Test Epoch: 31 Loss: 4.202080249786377:  60%|██████    | 30/50 [00:02<00:01, 10.96it/s]\u001B[A\n",
      "Test Epoch: 31 Loss: 4.202080249786377:  64%|██████▍   | 32/50 [00:02<00:01, 10.94it/s]\u001B[A\n",
      "Test Epoch: 32 Loss: 4.174753189086914:  64%|██████▍   | 32/50 [00:03<00:01, 10.94it/s]\u001B[A\n",
      "Test Epoch: 33 Loss: 4.19812536239624:  64%|██████▍   | 32/50 [00:03<00:01, 10.94it/s] \u001B[A\n",
      "Test Epoch: 33 Loss: 4.19812536239624:  68%|██████▊   | 34/50 [00:03<00:01, 10.95it/s]\u001B[A\n",
      "Test Epoch: 34 Loss: 4.1653923988342285:  68%|██████▊   | 34/50 [00:03<00:01, 10.95it/s]\u001B[A\n",
      "Test Epoch: 35 Loss: 4.1968793869018555:  68%|██████▊   | 34/50 [00:03<00:01, 10.95it/s]\u001B[A\n",
      "Test Epoch: 35 Loss: 4.1968793869018555:  72%|███████▏  | 36/50 [00:03<00:01, 10.75it/s]\u001B[A\n",
      "Test Epoch: 36 Loss: 4.19309663772583:  72%|███████▏  | 36/50 [00:03<00:01, 10.75it/s]  \u001B[A\n",
      "Test Epoch: 37 Loss: 4.174427032470703:  72%|███████▏  | 36/50 [00:03<00:01, 10.75it/s]\u001B[A\n",
      "Test Epoch: 37 Loss: 4.174427032470703:  76%|███████▌  | 38/50 [00:03<00:01, 10.58it/s]\u001B[A\n",
      "Test Epoch: 38 Loss: 4.178690433502197:  76%|███████▌  | 38/50 [00:03<00:01, 10.58it/s]\u001B[A\n",
      "Test Epoch: 39 Loss: 4.1671462059021:  76%|███████▌  | 38/50 [00:03<00:01, 10.58it/s]  \u001B[A\n",
      "Test Epoch: 39 Loss: 4.1671462059021:  80%|████████  | 40/50 [00:03<00:00, 10.70it/s]\u001B[A\n",
      "Test Epoch: 40 Loss: 4.200583457946777:  80%|████████  | 40/50 [00:03<00:00, 10.70it/s]\u001B[A\n",
      "Test Epoch: 41 Loss: 4.179488658905029:  80%|████████  | 40/50 [00:03<00:00, 10.70it/s]\u001B[A\n",
      "Test Epoch: 41 Loss: 4.179488658905029:  84%|████████▍ | 42/50 [00:03<00:00, 10.78it/s]\u001B[A\n",
      "Test Epoch: 42 Loss: 4.191375255584717:  84%|████████▍ | 42/50 [00:03<00:00, 10.78it/s]\u001B[A\n",
      "Test Epoch: 43 Loss: 4.177741527557373:  84%|████████▍ | 42/50 [00:04<00:00, 10.78it/s]\u001B[A\n",
      "Test Epoch: 43 Loss: 4.177741527557373:  88%|████████▊ | 44/50 [00:04<00:00, 10.83it/s]\u001B[A\n",
      "Test Epoch: 44 Loss: 4.180325984954834:  88%|████████▊ | 44/50 [00:04<00:00, 10.83it/s]\u001B[A\n",
      "Test Epoch: 45 Loss: 4.204903602600098:  88%|████████▊ | 44/50 [00:04<00:00, 10.83it/s]\u001B[A\n",
      "Test Epoch: 45 Loss: 4.204903602600098:  92%|█████████▏| 46/50 [00:04<00:00, 10.84it/s]\u001B[A\n",
      "Test Epoch: 46 Loss: 4.183660984039307:  92%|█████████▏| 46/50 [00:04<00:00, 10.84it/s]\u001B[A\n",
      "Test Epoch: 47 Loss: 4.208017349243164:  92%|█████████▏| 46/50 [00:04<00:00, 10.84it/s]\u001B[A\n",
      "Test Epoch: 47 Loss: 4.208017349243164:  96%|█████████▌| 48/50 [00:04<00:00, 10.88it/s]\u001B[A\n",
      "Test Epoch: 48 Loss: 4.209972381591797:  96%|█████████▌| 48/50 [00:04<00:00, 10.88it/s]\u001B[A\n",
      "Test Epoch: 49 Loss: 4.191359519958496:  96%|█████████▌| 48/50 [00:04<00:00, 10.88it/s]\u001B[A\n",
      "Test Epoch: 49 Loss: 4.191359519958496: 100%|██████████| 50/50 [00:04<00:00, 10.91it/s]\u001B[A\n",
      "Epoch: 1500 Loss: 4.170515060424805: 100%|█████████▉| 1500/1501 [06:04<00:00,  4.28it/s] \n",
      "  0%|          | 0/50 [00:00<?, ?it/s]\u001B[A\n",
      "Test Epoch: 0 Loss: 4.191067218780518:   0%|          | 0/50 [00:00<?, ?it/s]\u001B[A\n",
      "Test Epoch: 1 Loss: 4.174864292144775:   0%|          | 0/50 [00:00<?, ?it/s]\u001B[A\n",
      "Test Epoch: 1 Loss: 4.174864292144775:   4%|▍         | 2/50 [00:00<00:04, 10.71it/s]\u001B[A\n",
      "Test Epoch: 2 Loss: 4.182393550872803:   4%|▍         | 2/50 [00:00<00:04, 10.71it/s]\u001B[A\n",
      "Test Epoch: 3 Loss: 4.212696552276611:   4%|▍         | 2/50 [00:00<00:04, 10.71it/s]\u001B[A\n",
      "Test Epoch: 3 Loss: 4.212696552276611:   8%|▊         | 4/50 [00:00<00:04, 10.83it/s]\u001B[A\n",
      "Test Epoch: 4 Loss: 4.194079875946045:   8%|▊         | 4/50 [00:00<00:04, 10.83it/s]\u001B[A\n",
      "Test Epoch: 5 Loss: 4.190122127532959:   8%|▊         | 4/50 [00:00<00:04, 10.83it/s]\u001B[A\n",
      "Test Epoch: 5 Loss: 4.190122127532959:  12%|█▏        | 6/50 [00:00<00:04, 10.88it/s]\u001B[A\n",
      "Test Epoch: 6 Loss: 4.209680080413818:  12%|█▏        | 6/50 [00:00<00:04, 10.88it/s]\u001B[A\n",
      "Test Epoch: 7 Loss: 4.17193603515625:  12%|█▏        | 6/50 [00:00<00:04, 10.88it/s] \u001B[A\n",
      "Test Epoch: 7 Loss: 4.17193603515625:  16%|█▌        | 8/50 [00:00<00:03, 10.93it/s]\u001B[A\n",
      "Test Epoch: 8 Loss: 4.177784442901611:  16%|█▌        | 8/50 [00:00<00:03, 10.93it/s]\u001B[A\n",
      "Test Epoch: 9 Loss: 4.180782318115234:  16%|█▌        | 8/50 [00:00<00:03, 10.93it/s]\u001B[A\n",
      "Test Epoch: 9 Loss: 4.180782318115234:  20%|██        | 10/50 [00:00<00:03, 10.97it/s]\u001B[A\n",
      "Test Epoch: 10 Loss: 4.199635982513428:  20%|██        | 10/50 [00:01<00:03, 10.97it/s]\u001B[A\n",
      "Test Epoch: 11 Loss: 4.172024726867676:  20%|██        | 10/50 [00:01<00:03, 10.97it/s]\u001B[A\n",
      "Test Epoch: 11 Loss: 4.172024726867676:  24%|██▍       | 12/50 [00:01<00:03, 10.99it/s]\u001B[A\n",
      "Test Epoch: 12 Loss: 4.188208103179932:  24%|██▍       | 12/50 [00:01<00:03, 10.99it/s]\u001B[A\n",
      "Test Epoch: 13 Loss: 4.198654651641846:  24%|██▍       | 12/50 [00:01<00:03, 10.99it/s]\u001B[A\n",
      "Test Epoch: 13 Loss: 4.198654651641846:  28%|██▊       | 14/50 [00:01<00:03, 11.00it/s]\u001B[A\n",
      "Test Epoch: 14 Loss: 4.1707048416137695:  28%|██▊       | 14/50 [00:01<00:03, 11.00it/s]\u001B[A\n",
      "Test Epoch: 15 Loss: 4.163655757904053:  28%|██▊       | 14/50 [00:01<00:03, 11.00it/s] \u001B[A\n",
      "Test Epoch: 15 Loss: 4.163655757904053:  32%|███▏      | 16/50 [00:01<00:03, 10.97it/s]\u001B[A\n",
      "Test Epoch: 16 Loss: 4.1824212074279785:  32%|███▏      | 16/50 [00:01<00:03, 10.97it/s]\u001B[A\n",
      "Test Epoch: 17 Loss: 4.179021835327148:  32%|███▏      | 16/50 [00:01<00:03, 10.97it/s] \u001B[A\n",
      "Test Epoch: 17 Loss: 4.179021835327148:  36%|███▌      | 18/50 [00:01<00:02, 10.98it/s]\u001B[A\n",
      "Test Epoch: 18 Loss: 4.190474987030029:  36%|███▌      | 18/50 [00:01<00:02, 10.98it/s]\u001B[A\n",
      "Test Epoch: 19 Loss: 4.19899845123291:  36%|███▌      | 18/50 [00:01<00:02, 10.98it/s] \u001B[A\n",
      "Test Epoch: 19 Loss: 4.19899845123291:  40%|████      | 20/50 [00:01<00:02, 10.97it/s]\u001B[A\n",
      "Test Epoch: 20 Loss: 4.200901985168457:  40%|████      | 20/50 [00:01<00:02, 10.97it/s]\u001B[A\n",
      "Test Epoch: 21 Loss: 4.171027660369873:  40%|████      | 20/50 [00:02<00:02, 10.97it/s]\u001B[A\n",
      "Test Epoch: 21 Loss: 4.171027660369873:  44%|████▍     | 22/50 [00:02<00:02, 10.96it/s]\u001B[A\n",
      "Test Epoch: 22 Loss: 4.1801910400390625:  44%|████▍     | 22/50 [00:02<00:02, 10.96it/s]\u001B[A\n",
      "Test Epoch: 23 Loss: 4.172330856323242:  44%|████▍     | 22/50 [00:02<00:02, 10.96it/s] \u001B[A\n",
      "Test Epoch: 23 Loss: 4.172330856323242:  48%|████▊     | 24/50 [00:02<00:02, 10.98it/s]\u001B[A\n",
      "Test Epoch: 24 Loss: 4.187716007232666:  48%|████▊     | 24/50 [00:02<00:02, 10.98it/s]\u001B[A\n",
      "Test Epoch: 25 Loss: 4.199707984924316:  48%|████▊     | 24/50 [00:02<00:02, 10.98it/s]\u001B[A\n",
      "Test Epoch: 25 Loss: 4.199707984924316:  52%|█████▏    | 26/50 [00:02<00:02, 10.98it/s]\u001B[A\n",
      "Test Epoch: 26 Loss: 4.199123859405518:  52%|█████▏    | 26/50 [00:02<00:02, 10.98it/s]\u001B[A\n",
      "Test Epoch: 27 Loss: 4.207779884338379:  52%|█████▏    | 26/50 [00:02<00:02, 10.98it/s]\u001B[A\n",
      "Test Epoch: 27 Loss: 4.207779884338379:  56%|█████▌    | 28/50 [00:02<00:02, 10.97it/s]\u001B[A\n",
      "Test Epoch: 28 Loss: 4.179728984832764:  56%|█████▌    | 28/50 [00:02<00:02, 10.97it/s]\u001B[A\n",
      "Test Epoch: 29 Loss: 4.1699957847595215:  56%|█████▌    | 28/50 [00:02<00:02, 10.97it/s]\u001B[A\n",
      "Test Epoch: 29 Loss: 4.1699957847595215:  60%|██████    | 30/50 [00:02<00:01, 10.98it/s]\u001B[A\n",
      "Test Epoch: 30 Loss: 4.170421123504639:  60%|██████    | 30/50 [00:02<00:01, 10.98it/s] \u001B[A\n",
      "Test Epoch: 31 Loss: 4.189821243286133:  60%|██████    | 30/50 [00:02<00:01, 10.98it/s]\u001B[A\n",
      "Test Epoch: 31 Loss: 4.189821243286133:  64%|██████▍   | 32/50 [00:02<00:01, 10.98it/s]\u001B[A\n",
      "Test Epoch: 32 Loss: 4.169888973236084:  64%|██████▍   | 32/50 [00:03<00:01, 10.98it/s]\u001B[A\n",
      "Test Epoch: 33 Loss: 4.1886773109436035:  64%|██████▍   | 32/50 [00:03<00:01, 10.98it/s]\u001B[A\n",
      "Test Epoch: 33 Loss: 4.1886773109436035:  68%|██████▊   | 34/50 [00:03<00:01, 10.95it/s]\u001B[A\n",
      "Test Epoch: 34 Loss: 4.193526744842529:  68%|██████▊   | 34/50 [00:03<00:01, 10.95it/s] \u001B[A\n",
      "Test Epoch: 35 Loss: 4.214080810546875:  68%|██████▊   | 34/50 [00:03<00:01, 10.95it/s]\u001B[A\n",
      "Test Epoch: 35 Loss: 4.214080810546875:  72%|███████▏  | 36/50 [00:03<00:01, 10.96it/s]\u001B[A\n",
      "Test Epoch: 36 Loss: 4.192845344543457:  72%|███████▏  | 36/50 [00:03<00:01, 10.96it/s]\u001B[A\n",
      "Test Epoch: 37 Loss: 4.188699245452881:  72%|███████▏  | 36/50 [00:03<00:01, 10.96it/s]\u001B[A\n",
      "Test Epoch: 37 Loss: 4.188699245452881:  76%|███████▌  | 38/50 [00:03<00:01, 10.92it/s]\u001B[A\n",
      "Test Epoch: 38 Loss: 4.157810688018799:  76%|███████▌  | 38/50 [00:03<00:01, 10.92it/s]\u001B[A\n",
      "Test Epoch: 39 Loss: 4.215662479400635:  76%|███████▌  | 38/50 [00:03<00:01, 10.92it/s]\u001B[A\n",
      "Test Epoch: 39 Loss: 4.215662479400635:  80%|████████  | 40/50 [00:03<00:00, 10.95it/s]\u001B[A\n",
      "Test Epoch: 40 Loss: 4.174082279205322:  80%|████████  | 40/50 [00:03<00:00, 10.95it/s]\u001B[A\n",
      "Test Epoch: 41 Loss: 4.169333457946777:  80%|████████  | 40/50 [00:03<00:00, 10.95it/s]\u001B[A\n",
      "Test Epoch: 41 Loss: 4.169333457946777:  84%|████████▍ | 42/50 [00:03<00:00, 10.92it/s]\u001B[A\n",
      "Test Epoch: 42 Loss: 4.2221174240112305:  84%|████████▍ | 42/50 [00:03<00:00, 10.92it/s]\u001B[A\n",
      "Test Epoch: 43 Loss: 4.177414894104004:  84%|████████▍ | 42/50 [00:04<00:00, 10.92it/s] \u001B[A\n",
      "Test Epoch: 43 Loss: 4.177414894104004:  88%|████████▊ | 44/50 [00:04<00:00, 10.90it/s]\u001B[A\n",
      "Test Epoch: 44 Loss: 4.197502613067627:  88%|████████▊ | 44/50 [00:04<00:00, 10.90it/s]\u001B[A\n",
      "Test Epoch: 45 Loss: 4.181435585021973:  88%|████████▊ | 44/50 [00:04<00:00, 10.90it/s]\u001B[A\n",
      "Test Epoch: 45 Loss: 4.181435585021973:  92%|█████████▏| 46/50 [00:04<00:00, 10.88it/s]\u001B[A\n",
      "Test Epoch: 46 Loss: 4.200092792510986:  92%|█████████▏| 46/50 [00:04<00:00, 10.88it/s]\u001B[A\n",
      "Test Epoch: 47 Loss: 4.181366443634033:  92%|█████████▏| 46/50 [00:04<00:00, 10.88it/s]\u001B[A\n",
      "Test Epoch: 47 Loss: 4.181366443634033:  96%|█████████▌| 48/50 [00:04<00:00, 10.92it/s]\u001B[A\n",
      "Test Epoch: 48 Loss: 4.200044631958008:  96%|█████████▌| 48/50 [00:04<00:00, 10.92it/s]\u001B[A\n",
      "Test Epoch: 49 Loss: 4.164010047912598:  96%|█████████▌| 48/50 [00:04<00:00, 10.92it/s]\u001B[A\n",
      "Test Epoch: 49 Loss: 4.164010047912598: 100%|██████████| 50/50 [00:04<00:00, 10.94it/s]\u001B[A\n",
      "Epoch: 1500 Loss: 4.170515060424805: 100%|██████████| 1501/1501 [06:08<00:00,  4.07it/s]\n"
     ]
    }
   ],
   "source": [
    "# print(len(train))\n",
    "trainer.train(train, test, epochs, batch_size)"
   ],
   "metadata": {
    "collapsed": false,
    "ExecuteTime": {
     "end_time": "2023-12-12T16:00:05.037199909Z",
     "start_time": "2023-12-12T15:53:50.759002271Z"
    }
   },
   "id": "65d1cbb8c9d3d89"
  },
  {
   "cell_type": "code",
   "execution_count": null,
   "outputs": [],
   "source": [
    "th.save({\n",
    "        \"model_state_dict\": transformer.state_dict(),\n",
    "        \"optimizer_state_dict\": trainer.optimizer.state_dict(),\n",
    "    }, \"model.pth\")\n",
    "# trainer.draw_losses()"
   ],
   "metadata": {
    "collapsed": false
   },
   "id": "b793284e4ee7b7b5"
  },
  {
   "cell_type": "code",
   "execution_count": null,
   "outputs": [],
   "source": [
    "input_ = encode([\"The Shade was\"],vocab)\n",
    "input_ = th.tensor(input_).long().cuda().reshape(1, -1)\n",
    "outputs = decode(transformer.generate(input_, 108, block_size), vocab)\n",
    "print(''.join(outputs))"
   ],
   "metadata": {
    "collapsed": false
   },
   "id": "24490ff89961aba0"
  },
  {
   "cell_type": "code",
   "execution_count": null,
   "outputs": [],
   "source": [
    "# wandb.finish()"
   ],
   "metadata": {
    "collapsed": false
   },
   "id": "22d0fc074c2ae28c"
  }
 ],
 "metadata": {
  "kernelspec": {
   "display_name": "Python 3",
   "language": "python",
   "name": "python3"
  },
  "language_info": {
   "codemirror_mode": {
    "name": "ipython",
    "version": 2
   },
   "file_extension": ".py",
   "mimetype": "text/x-python",
   "name": "python",
   "nbconvert_exporter": "python",
   "pygments_lexer": "ipython2",
   "version": "2.7.6"
  }
 },
 "nbformat": 4,
 "nbformat_minor": 5
}
